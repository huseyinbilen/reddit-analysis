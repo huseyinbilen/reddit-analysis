{
 "cells": [
  {
   "cell_type": "markdown",
   "id": "36595f14",
   "metadata": {},
   "source": [
    "# API Bağlantısının Yapılması"
   ]
  },
  {
   "cell_type": "code",
   "execution_count": 3,
   "id": "4f7e0eb8",
   "metadata": {},
   "outputs": [
    {
     "name": "stdout",
     "output_type": "stream",
     "text": [
      "True\n"
     ]
    }
   ],
   "source": [
    "import pandas as pd\n",
    "import praw\n",
    "\n",
    "reddit = praw.Reddit(client_id ='ZHvSvF3zoK1cVWT6ICN24g',\n",
    "\t\t\t\t\tclient_secret ='5vWlo4JrpX-Fc5MTwSJu5EMmTqvpww',\n",
    "\t\t\t\t\tuser_agent ='my user agent',\n",
    "\t\t\t\t\tusername ='',\n",
    "\t\t\t\t\tpassword ='')\n",
    "\n",
    "# to verify whether the instance is authorized instance or not\n",
    "print(reddit.read_only)\n",
    "reddit.read_only = True"
   ]
  },
  {
   "cell_type": "markdown",
   "id": "8691986c",
   "metadata": {},
   "source": [
    "# Reddit'ten Veri Çekmek"
   ]
  },
  {
   "cell_type": "code",
   "execution_count": 4,
   "id": "dbbb9c2c",
   "metadata": {},
   "outputs": [
    {
     "name": "stdout",
     "output_type": "stream",
     "text": [
      "dataisbeautiful\n",
      "DataIsBeautiful\n",
      "5 submissions completed\n",
      "10 submissions completed\n",
      "15 submissions completed\n",
      "20 submissions completed\n",
      "25 submissions completed\n",
      "30 submissions completed\n",
      "35 submissions completed\n",
      "40 submissions completed\n",
      "45 submissions completed\n",
      "50 submissions completed\n",
      "55 submissions completed\n",
      "60 submissions completed\n",
      "65 submissions completed\n",
      "70 submissions completed\n",
      "75 submissions completed\n",
      "80 submissions completed\n",
      "85 submissions completed\n",
      "90 submissions completed\n",
      "95 submissions completed\n",
      "100 submissions completed\n"
     ]
    }
   ],
   "source": [
    "import datetime\n",
    "subreddit = reddit.subreddit('dataisbeautiful')\n",
    "\n",
    "print(subreddit.display_name)  # Output: iama\n",
    "print(subreddit.title)         # Output:I Am A, where the mundane...\n",
    "\n",
    "# for submission in subreddit.hot(limit=50):\n",
    "#     print(submission.title)  # Output: the submission's title\n",
    "#     print(submission.score)  # Output: the submission's upvotes\n",
    "#     print(submission.id)     # Output: the submission's ID\n",
    "#     print(submission.url)    # Output: the URL\n",
    "\n",
    "text = []\n",
    "time = []\n",
    "num_upvotes = []\n",
    "num_comments = []\n",
    "upvote_ratio = []\n",
    "# link_flair = []\n",
    "redditor = []\n",
    "# Türkçe Karalterlerin Düzeltilmesi\n",
    "duzeltilecek_harfler = \"çÇğĞıİöÖşŞüÜ\"\n",
    "duzeltilmis_harfler = \"cCgGiIoOsSuU\"\n",
    "\n",
    "\n",
    "alfabe_duzeltme = str.maketrans(duzeltilecek_harfler, duzeltilmis_harfler)\n",
    "\n",
    "i=1\n",
    "for submission in subreddit.new(limit=100):\n",
    "    i+=1\n",
    "    text.append(submission.title.translate(alfabe_duzeltme).lower())\n",
    "    time.append(datetime.datetime.fromtimestamp(submission.created_utc))\n",
    "    num_upvotes.append(submission.score)\n",
    "    num_comments.append(submission.num_comments)\n",
    "    upvote_ratio.append(submission.upvote_ratio)\n",
    "#     link_flair.append(submission.link_flair_text)\n",
    "    redditor.append(submission.author)\n",
    "    if i%5 == 0:\n",
    "        print(f'{i} submissions completed')\n",
    "\n"
   ]
  },
  {
   "cell_type": "markdown",
   "id": "19298545",
   "metadata": {},
   "source": [
    "## DataFrame'e Çevirmek"
   ]
  },
  {
   "cell_type": "code",
   "execution_count": 5,
   "id": "66cbc866",
   "metadata": {
    "scrolled": false
   },
   "outputs": [
    {
     "data": {
      "text/html": [
       "<div>\n",
       "<style scoped>\n",
       "    .dataframe tbody tr th:only-of-type {\n",
       "        vertical-align: middle;\n",
       "    }\n",
       "\n",
       "    .dataframe tbody tr th {\n",
       "        vertical-align: top;\n",
       "    }\n",
       "\n",
       "    .dataframe thead th {\n",
       "        text-align: right;\n",
       "    }\n",
       "</style>\n",
       "<table border=\"1\" class=\"dataframe\">\n",
       "  <thead>\n",
       "    <tr style=\"text-align: right;\">\n",
       "      <th></th>\n",
       "      <th>text</th>\n",
       "      <th>time</th>\n",
       "      <th>num_comments</th>\n",
       "      <th>num_upvotes</th>\n",
       "      <th>upvote_ratio</th>\n",
       "      <th>redditor</th>\n",
       "    </tr>\n",
       "  </thead>\n",
       "  <tbody>\n",
       "    <tr>\n",
       "      <th>0</th>\n",
       "      <td>my five months on hinge (flow diagram, stats) ...</td>\n",
       "      <td>2021-12-19 21:36:54</td>\n",
       "      <td>1</td>\n",
       "      <td>2</td>\n",
       "      <td>1.00</td>\n",
       "      <td>SaberInTheBathtub</td>\n",
       "    </tr>\n",
       "    <tr>\n",
       "      <th>1</th>\n",
       "      <td>in 2021 i ran the streets of saint paul, mn. a...</td>\n",
       "      <td>2021-12-19 21:31:26</td>\n",
       "      <td>4</td>\n",
       "      <td>15</td>\n",
       "      <td>1.00</td>\n",
       "      <td>Runningmanmn</td>\n",
       "    </tr>\n",
       "    <tr>\n",
       "      <th>2</th>\n",
       "      <td>[oc] 2021 in google search trends</td>\n",
       "      <td>2021-12-19 21:09:20</td>\n",
       "      <td>6</td>\n",
       "      <td>27</td>\n",
       "      <td>0.97</td>\n",
       "      <td>joweich</td>\n",
       "    </tr>\n",
       "    <tr>\n",
       "      <th>3</th>\n",
       "      <td>2021 yearly inflation (prices increases) acros...</td>\n",
       "      <td>2021-12-19 13:35:28</td>\n",
       "      <td>230</td>\n",
       "      <td>1791</td>\n",
       "      <td>0.91</td>\n",
       "      <td>maps_us_eu</td>\n",
       "    </tr>\n",
       "    <tr>\n",
       "      <th>4</th>\n",
       "      <td>male vs. female share of reviews imdb movies [oc]</td>\n",
       "      <td>2021-12-19 19:20:45</td>\n",
       "      <td>21</td>\n",
       "      <td>56</td>\n",
       "      <td>0.86</td>\n",
       "      <td>nickkuiper11</td>\n",
       "    </tr>\n",
       "    <tr>\n",
       "      <th>...</th>\n",
       "      <td>...</td>\n",
       "      <td>...</td>\n",
       "      <td>...</td>\n",
       "      <td>...</td>\n",
       "      <td>...</td>\n",
       "      <td>...</td>\n",
       "    </tr>\n",
       "    <tr>\n",
       "      <th>95</th>\n",
       "      <td>[oc] [updated] countries with the highest inca...</td>\n",
       "      <td>2021-12-14 14:37:26</td>\n",
       "      <td>1367</td>\n",
       "      <td>10205</td>\n",
       "      <td>0.93</td>\n",
       "      <td>LivingCharts</td>\n",
       "    </tr>\n",
       "    <tr>\n",
       "      <th>96</th>\n",
       "      <td>the decay of star wars [oc]</td>\n",
       "      <td>2021-12-14 10:15:05</td>\n",
       "      <td>35</td>\n",
       "      <td>8</td>\n",
       "      <td>0.57</td>\n",
       "      <td>csheppard925</td>\n",
       "    </tr>\n",
       "    <tr>\n",
       "      <th>97</th>\n",
       "      <td>percent fully vaccinated against covid-19, by ...</td>\n",
       "      <td>2021-12-14 08:00:26</td>\n",
       "      <td>110</td>\n",
       "      <td>658</td>\n",
       "      <td>0.84</td>\n",
       "      <td>pncohen</td>\n",
       "    </tr>\n",
       "    <tr>\n",
       "      <th>98</th>\n",
       "      <td>18 of the coolest visualizations for exploring...</td>\n",
       "      <td>2021-12-14 04:51:05</td>\n",
       "      <td>1</td>\n",
       "      <td>0</td>\n",
       "      <td>0.35</td>\n",
       "      <td>deepspace8</td>\n",
       "    </tr>\n",
       "    <tr>\n",
       "      <th>99</th>\n",
       "      <td>canada has the biggest gap between real estate...</td>\n",
       "      <td>2021-12-14 02:19:15</td>\n",
       "      <td>32</td>\n",
       "      <td>78</td>\n",
       "      <td>0.95</td>\n",
       "      <td>KanataCitizen</td>\n",
       "    </tr>\n",
       "  </tbody>\n",
       "</table>\n",
       "<p>100 rows × 6 columns</p>\n",
       "</div>"
      ],
      "text/plain": [
       "                                                 text                time  \\\n",
       "0   my five months on hinge (flow diagram, stats) ... 2021-12-19 21:36:54   \n",
       "1   in 2021 i ran the streets of saint paul, mn. a... 2021-12-19 21:31:26   \n",
       "2                   [oc] 2021 in google search trends 2021-12-19 21:09:20   \n",
       "3   2021 yearly inflation (prices increases) acros... 2021-12-19 13:35:28   \n",
       "4   male vs. female share of reviews imdb movies [oc] 2021-12-19 19:20:45   \n",
       "..                                                ...                 ...   \n",
       "95  [oc] [updated] countries with the highest inca... 2021-12-14 14:37:26   \n",
       "96                        the decay of star wars [oc] 2021-12-14 10:15:05   \n",
       "97  percent fully vaccinated against covid-19, by ... 2021-12-14 08:00:26   \n",
       "98  18 of the coolest visualizations for exploring... 2021-12-14 04:51:05   \n",
       "99  canada has the biggest gap between real estate... 2021-12-14 02:19:15   \n",
       "\n",
       "    num_comments  num_upvotes  upvote_ratio           redditor  \n",
       "0              1            2          1.00  SaberInTheBathtub  \n",
       "1              4           15          1.00       Runningmanmn  \n",
       "2              6           27          0.97            joweich  \n",
       "3            230         1791          0.91         maps_us_eu  \n",
       "4             21           56          0.86       nickkuiper11  \n",
       "..           ...          ...           ...                ...  \n",
       "95          1367        10205          0.93       LivingCharts  \n",
       "96            35            8          0.57       csheppard925  \n",
       "97           110          658          0.84            pncohen  \n",
       "98             1            0          0.35         deepspace8  \n",
       "99            32           78          0.95      KanataCitizen  \n",
       "\n",
       "[100 rows x 6 columns]"
      ]
     },
     "execution_count": 5,
     "metadata": {},
     "output_type": "execute_result"
    }
   ],
   "source": [
    "df = pd.DataFrame(\n",
    "    {'text': text,\n",
    "     'time': time,\n",
    "     'num_comments': num_comments,\n",
    "     'num_upvotes': num_upvotes,\n",
    "     'upvote_ratio': upvote_ratio,\n",
    "#      'link_flair': link_flair,\n",
    "     'redditor': redditor\n",
    "    })\n",
    "df.head(100)\n"
   ]
  },
  {
   "cell_type": "markdown",
   "id": "17f660fa",
   "metadata": {},
   "source": [
    "# Subreddit Analizi"
   ]
  },
  {
   "cell_type": "markdown",
   "id": "cf7f26ae",
   "metadata": {},
   "source": [
    "#### Kaç farklı hesabın katılım sağladığı"
   ]
  },
  {
   "cell_type": "code",
   "execution_count": 6,
   "id": "3ff11e59",
   "metadata": {
    "scrolled": true
   },
   "outputs": [
    {
     "data": {
      "text/plain": [
       "88"
      ]
     },
     "execution_count": 6,
     "metadata": {},
     "output_type": "execute_result"
    }
   ],
   "source": [
    "df[\"redditor\"].unique().size"
   ]
  },
  {
   "cell_type": "markdown",
   "id": "71a88f2f",
   "metadata": {},
   "source": [
    "#### En çok Upvote Alanlar"
   ]
  },
  {
   "cell_type": "code",
   "execution_count": 7,
   "id": "f3a49c16",
   "metadata": {
    "scrolled": true
   },
   "outputs": [
    {
     "data": {
      "text/plain": [
       "24    18645\n",
       "48    17832\n",
       "38    14459\n",
       "72    12370\n",
       "95    10205\n",
       "Name: num_upvotes, dtype: int64"
      ]
     },
     "execution_count": 7,
     "metadata": {},
     "output_type": "execute_result"
    }
   ],
   "source": [
    "df[\"num_upvotes\"].sort_values(ascending=False)[0:5]"
   ]
  },
  {
   "cell_type": "code",
   "execution_count": 9,
   "id": "f994d549",
   "metadata": {},
   "outputs": [
    {
     "data": {
      "text/plain": [
       "'[oc] map animation showing record rainfall across southern california'"
      ]
     },
     "execution_count": 9,
     "metadata": {},
     "output_type": "execute_result"
    }
   ],
   "source": [
    "df.values[39][0]"
   ]
  },
  {
   "cell_type": "markdown",
   "id": "b239858e",
   "metadata": {},
   "source": [
    "#### Post Atılma Sıklığı"
   ]
  },
  {
   "cell_type": "code",
   "execution_count": 10,
   "id": "3bbc22bb",
   "metadata": {},
   "outputs": [],
   "source": [
    "df[\"post_hour\"] = df[\"time\"].apply(lambda x: x.strftime(\"%H\"))"
   ]
  },
  {
   "cell_type": "code",
   "execution_count": 11,
   "id": "4cd9cee7",
   "metadata": {},
   "outputs": [
    {
     "data": {
      "text/html": [
       "<div>\n",
       "<style scoped>\n",
       "    .dataframe tbody tr th:only-of-type {\n",
       "        vertical-align: middle;\n",
       "    }\n",
       "\n",
       "    .dataframe tbody tr th {\n",
       "        vertical-align: top;\n",
       "    }\n",
       "\n",
       "    .dataframe thead th {\n",
       "        text-align: right;\n",
       "    }\n",
       "</style>\n",
       "<table border=\"1\" class=\"dataframe\">\n",
       "  <thead>\n",
       "    <tr style=\"text-align: right;\">\n",
       "      <th></th>\n",
       "      <th>text</th>\n",
       "      <th>time</th>\n",
       "      <th>num_comments</th>\n",
       "      <th>num_upvotes</th>\n",
       "      <th>upvote_ratio</th>\n",
       "      <th>redditor</th>\n",
       "      <th>post_hour</th>\n",
       "    </tr>\n",
       "  </thead>\n",
       "  <tbody>\n",
       "    <tr>\n",
       "      <th>0</th>\n",
       "      <td>my five months on hinge (flow diagram, stats) ...</td>\n",
       "      <td>2021-12-19 21:36:54</td>\n",
       "      <td>1</td>\n",
       "      <td>2</td>\n",
       "      <td>1.00</td>\n",
       "      <td>SaberInTheBathtub</td>\n",
       "      <td>21</td>\n",
       "    </tr>\n",
       "    <tr>\n",
       "      <th>1</th>\n",
       "      <td>in 2021 i ran the streets of saint paul, mn. a...</td>\n",
       "      <td>2021-12-19 21:31:26</td>\n",
       "      <td>4</td>\n",
       "      <td>15</td>\n",
       "      <td>1.00</td>\n",
       "      <td>Runningmanmn</td>\n",
       "      <td>21</td>\n",
       "    </tr>\n",
       "    <tr>\n",
       "      <th>2</th>\n",
       "      <td>[oc] 2021 in google search trends</td>\n",
       "      <td>2021-12-19 21:09:20</td>\n",
       "      <td>6</td>\n",
       "      <td>27</td>\n",
       "      <td>0.97</td>\n",
       "      <td>joweich</td>\n",
       "      <td>21</td>\n",
       "    </tr>\n",
       "    <tr>\n",
       "      <th>3</th>\n",
       "      <td>2021 yearly inflation (prices increases) acros...</td>\n",
       "      <td>2021-12-19 13:35:28</td>\n",
       "      <td>230</td>\n",
       "      <td>1791</td>\n",
       "      <td>0.91</td>\n",
       "      <td>maps_us_eu</td>\n",
       "      <td>13</td>\n",
       "    </tr>\n",
       "    <tr>\n",
       "      <th>4</th>\n",
       "      <td>male vs. female share of reviews imdb movies [oc]</td>\n",
       "      <td>2021-12-19 19:20:45</td>\n",
       "      <td>21</td>\n",
       "      <td>56</td>\n",
       "      <td>0.86</td>\n",
       "      <td>nickkuiper11</td>\n",
       "      <td>19</td>\n",
       "    </tr>\n",
       "  </tbody>\n",
       "</table>\n",
       "</div>"
      ],
      "text/plain": [
       "                                                text                time  \\\n",
       "0  my five months on hinge (flow diagram, stats) ... 2021-12-19 21:36:54   \n",
       "1  in 2021 i ran the streets of saint paul, mn. a... 2021-12-19 21:31:26   \n",
       "2                  [oc] 2021 in google search trends 2021-12-19 21:09:20   \n",
       "3  2021 yearly inflation (prices increases) acros... 2021-12-19 13:35:28   \n",
       "4  male vs. female share of reviews imdb movies [oc] 2021-12-19 19:20:45   \n",
       "\n",
       "   num_comments  num_upvotes  upvote_ratio           redditor post_hour  \n",
       "0             1            2          1.00  SaberInTheBathtub        21  \n",
       "1             4           15          1.00       Runningmanmn        21  \n",
       "2             6           27          0.97            joweich        21  \n",
       "3           230         1791          0.91         maps_us_eu        13  \n",
       "4            21           56          0.86       nickkuiper11        19  "
      ]
     },
     "execution_count": 11,
     "metadata": {},
     "output_type": "execute_result"
    }
   ],
   "source": [
    "df.head()"
   ]
  },
  {
   "cell_type": "code",
   "execution_count": 12,
   "id": "bfeda1b6",
   "metadata": {},
   "outputs": [],
   "source": [
    "# df[\"time\"].plot.bar(x = \"text\", y = \"post_hour\");"
   ]
  },
  {
   "cell_type": "code",
   "execution_count": 13,
   "id": "fbe5de0d",
   "metadata": {},
   "outputs": [
    {
     "name": "stdout",
     "output_type": "stream",
     "text": [
      "<class 'pandas.core.frame.DataFrame'>\n",
      "RangeIndex: 100 entries, 0 to 99\n",
      "Data columns (total 7 columns):\n",
      " #   Column        Non-Null Count  Dtype         \n",
      "---  ------        --------------  -----         \n",
      " 0   text          100 non-null    object        \n",
      " 1   time          100 non-null    datetime64[ns]\n",
      " 2   num_comments  100 non-null    int64         \n",
      " 3   num_upvotes   100 non-null    int64         \n",
      " 4   upvote_ratio  100 non-null    float64       \n",
      " 5   redditor      100 non-null    object        \n",
      " 6   post_hour     100 non-null    int64         \n",
      "dtypes: datetime64[ns](1), float64(1), int64(3), object(2)\n",
      "memory usage: 5.6+ KB\n"
     ]
    },
    {
     "name": "stderr",
     "output_type": "stream",
     "text": [
      "c:\\users\\husey\\appdata\\local\\programs\\python\\python38\\lib\\site-packages\\seaborn\\distributions.py:2619: FutureWarning: `distplot` is a deprecated function and will be removed in a future version. Please adapt your code to use either `displot` (a figure-level function with similar flexibility) or `histplot` (an axes-level function for histograms).\n",
      "  warnings.warn(msg, FutureWarning)\n"
     ]
    },
    {
     "data": {
      "image/png": "[encoded data removed]",
      "text/plain": [
       "<Figure size 432x288 with 1 Axes>"
      ]
     },
     "metadata": {
      "needs_background": "light"
     },
     "output_type": "display_data"
    }
   ],
   "source": [
    "import seaborn as sns\n",
    "df[\"post_hour\"] = df[\"time\"].apply(lambda x: x.strftime(\"%H\"))\n",
    "df[\"post_hour\"] = pd.to_numeric(df[\"post_hour\"])\n",
    "df.info()\n",
    "sns.distplot(df[\"post_hour\"], kde = False, color =\"blue\");"
   ]
  },
  {
   "cell_type": "markdown",
   "id": "1bf44b12",
   "metadata": {},
   "source": [
    "#### WordCloud Görselleştirme"
   ]
  },
  {
   "cell_type": "code",
   "execution_count": 14,
   "id": "fe766f4b",
   "metadata": {},
   "outputs": [
    {
     "data": {
      "image/png": "[encoded data removed]",
      "text/plain": [
       "<Figure size 432x288 with 1 Axes>"
      ]
     },
     "metadata": {
      "needs_background": "light"
     },
     "output_type": "display_data"
    }
   ],
   "source": [
    "import numpy as np\n",
    "import pandas as pd\n",
    "from os import path\n",
    "from PIL import Image\n",
    "from wordcloud import WordCloud, STOPWORDS, ImageColorGenerator\n",
    "import matplotlib.pyplot as plt\n",
    "import numpy as np\n",
    "import pandas as pd\n",
    "from os import path\n",
    "\n",
    "text = \" \".join(i for i in df.text)\n",
    "text\n",
    "wordcloud = WordCloud(background_color = \"white\").generate(text)\n",
    "plt.imshow(wordcloud, interpolation = \"bilinear\")\n",
    "plt.axis(\"off\")\n",
    "plt.tight_layout(pad = 0)\n",
    "plt.show()"
   ]
  },
  {
   "cell_type": "markdown",
   "id": "d20a8ea5",
   "metadata": {},
   "source": [
    "# Model Eğitimi"
   ]
  },
  {
   "cell_type": "markdown",
   "id": "5a5e6100",
   "metadata": {},
   "source": [
    "### TextBlob ile Duygu Analizi"
   ]
  },
  {
   "cell_type": "code",
   "execution_count": 15,
   "id": "7cf5df3f",
   "metadata": {
    "scrolled": true
   },
   "outputs": [],
   "source": [
    "from textblob import TextBlob\n",
    "from textblob.sentiments import NaiveBayesAnalyzer\n",
    "import nltk"
   ]
  },
  {
   "cell_type": "code",
   "execution_count": 19,
   "id": "98a3913f",
   "metadata": {},
   "outputs": [
    {
     "name": "stdout",
     "output_type": "stream",
     "text": [
      "Sentiment(polarity=0.0, subjectivity=0.0)\n",
      "Sentiment(classification='pos', p_pos=0.7230759900491676, p_neg=0.27692400995083266)\n"
     ]
    }
   ],
   "source": [
    "sentence = df.values[45][0]\n",
    "\n",
    "# Creating a textblob object and assigning the sentiment property\n",
    "analysis = TextBlob(sentence).sentiment\n",
    "print(analysis)\n",
    "\n",
    "\n",
    "blob_object = TextBlob(sentence, analyzer=NaiveBayesAnalyzer())\n",
    "# Running sentiment analysis\n",
    "analysis = blob_object.sentiment\n",
    "print(analysis)"
   ]
  },
  {
   "cell_type": "code",
   "execution_count": 17,
   "id": "bc23eaa3",
   "metadata": {},
   "outputs": [
    {
     "name": "stdout",
     "output_type": "stream",
     "text": [
      "dataisbeautiful\n",
      "DataIsBeautiful\n",
      "5 submissions completed\n",
      "10 submissions completed\n",
      "15 submissions completed\n",
      "20 submissions completed\n",
      "25 submissions completed\n",
      "30 submissions completed\n",
      "35 submissions completed\n",
      "40 submissions completed\n",
      "45 submissions completed\n",
      "50 submissions completed\n"
     ]
    },
    {
     "data": {
      "text/html": [
       "<div>\n",
       "<style scoped>\n",
       "    .dataframe tbody tr th:only-of-type {\n",
       "        vertical-align: middle;\n",
       "    }\n",
       "\n",
       "    .dataframe tbody tr th {\n",
       "        vertical-align: top;\n",
       "    }\n",
       "\n",
       "    .dataframe thead th {\n",
       "        text-align: right;\n",
       "    }\n",
       "</style>\n",
       "<table border=\"1\" class=\"dataframe\">\n",
       "  <thead>\n",
       "    <tr style=\"text-align: right;\">\n",
       "      <th></th>\n",
       "      <th>text</th>\n",
       "      <th>time</th>\n",
       "      <th>num_comments</th>\n",
       "      <th>num_upvotes</th>\n",
       "      <th>upvote_ratio</th>\n",
       "      <th>redditor</th>\n",
       "      <th>sentiment</th>\n",
       "    </tr>\n",
       "  </thead>\n",
       "  <tbody>\n",
       "    <tr>\n",
       "      <th>0</th>\n",
       "      <td>my five months on hinge (flow diagram, stats) ...</td>\n",
       "      <td>2021-12-19 21:36:54</td>\n",
       "      <td>4</td>\n",
       "      <td>2</td>\n",
       "      <td>1.00</td>\n",
       "      <td>SaberInTheBathtub</td>\n",
       "      <td>pos</td>\n",
       "    </tr>\n",
       "    <tr>\n",
       "      <th>1</th>\n",
       "      <td>in 2021 i ran the streets of saint paul, mn. a...</td>\n",
       "      <td>2021-12-19 21:31:26</td>\n",
       "      <td>6</td>\n",
       "      <td>27</td>\n",
       "      <td>0.97</td>\n",
       "      <td>Runningmanmn</td>\n",
       "      <td>neg</td>\n",
       "    </tr>\n",
       "    <tr>\n",
       "      <th>2</th>\n",
       "      <td>[oc] 2021 in google search trends</td>\n",
       "      <td>2021-12-19 21:09:20</td>\n",
       "      <td>6</td>\n",
       "      <td>30</td>\n",
       "      <td>0.97</td>\n",
       "      <td>joweich</td>\n",
       "      <td>pos</td>\n",
       "    </tr>\n",
       "    <tr>\n",
       "      <th>3</th>\n",
       "      <td>2021 yearly inflation (prices increases) acros...</td>\n",
       "      <td>2021-12-19 13:35:28</td>\n",
       "      <td>230</td>\n",
       "      <td>1820</td>\n",
       "      <td>0.91</td>\n",
       "      <td>maps_us_eu</td>\n",
       "      <td>pos</td>\n",
       "    </tr>\n",
       "    <tr>\n",
       "      <th>4</th>\n",
       "      <td>male vs. female share of reviews imdb movies [oc]</td>\n",
       "      <td>2021-12-19 19:20:45</td>\n",
       "      <td>21</td>\n",
       "      <td>57</td>\n",
       "      <td>0.87</td>\n",
       "      <td>nickkuiper11</td>\n",
       "      <td>neg</td>\n",
       "    </tr>\n",
       "    <tr>\n",
       "      <th>5</th>\n",
       "      <td>[oc] the electrical grid of the continental u....</td>\n",
       "      <td>2021-12-19 18:38:19</td>\n",
       "      <td>55</td>\n",
       "      <td>618</td>\n",
       "      <td>0.97</td>\n",
       "      <td>ptgorman</td>\n",
       "      <td>neg</td>\n",
       "    </tr>\n",
       "    <tr>\n",
       "      <th>6</th>\n",
       "      <td>[oc] differences in rates of r/amitheasshole j...</td>\n",
       "      <td>2021-12-19 17:29:50</td>\n",
       "      <td>4</td>\n",
       "      <td>0</td>\n",
       "      <td>0.42</td>\n",
       "      <td>jarrjam</td>\n",
       "      <td>pos</td>\n",
       "    </tr>\n",
       "    <tr>\n",
       "      <th>7</th>\n",
       "      <td>[oc] disappearing white christmas (1950-2020)</td>\n",
       "      <td>2021-12-19 17:28:30</td>\n",
       "      <td>233</td>\n",
       "      <td>3581</td>\n",
       "      <td>0.97</td>\n",
       "      <td>a__square__peg</td>\n",
       "      <td>neg</td>\n",
       "    </tr>\n",
       "    <tr>\n",
       "      <th>8</th>\n",
       "      <td>unicorn startups data analysis and visualizati...</td>\n",
       "      <td>2021-12-19 11:38:18</td>\n",
       "      <td>0</td>\n",
       "      <td>1</td>\n",
       "      <td>0.67</td>\n",
       "      <td>call_me_ninza</td>\n",
       "      <td>neg</td>\n",
       "    </tr>\n",
       "    <tr>\n",
       "      <th>9</th>\n",
       "      <td>countries that have been to space</td>\n",
       "      <td>2021-12-19 10:08:28</td>\n",
       "      <td>8</td>\n",
       "      <td>5</td>\n",
       "      <td>0.59</td>\n",
       "      <td>radinsarraf</td>\n",
       "      <td>pos</td>\n",
       "    </tr>\n",
       "    <tr>\n",
       "      <th>10</th>\n",
       "      <td>treevis.net - 333 techniques for visualizing t...</td>\n",
       "      <td>2021-12-19 10:06:31</td>\n",
       "      <td>0</td>\n",
       "      <td>4</td>\n",
       "      <td>0.75</td>\n",
       "      <td>breck</td>\n",
       "      <td>pos</td>\n",
       "    </tr>\n",
       "    <tr>\n",
       "      <th>11</th>\n",
       "      <td>categories where usa is number one (god bless ...</td>\n",
       "      <td>2021-12-19 09:53:52</td>\n",
       "      <td>11</td>\n",
       "      <td>0</td>\n",
       "      <td>0.32</td>\n",
       "      <td>Infinite-Praline52</td>\n",
       "      <td>pos</td>\n",
       "    </tr>\n",
       "    <tr>\n",
       "      <th>12</th>\n",
       "      <td>[oc] the remarkable career of lebron james: co...</td>\n",
       "      <td>2021-12-19 02:04:31</td>\n",
       "      <td>6</td>\n",
       "      <td>0</td>\n",
       "      <td>0.29</td>\n",
       "      <td>whatweshouldcallyou</td>\n",
       "      <td>pos</td>\n",
       "    </tr>\n",
       "    <tr>\n",
       "      <th>13</th>\n",
       "      <td>which countries have the biggest and the small...</td>\n",
       "      <td>2021-12-18 23:32:45</td>\n",
       "      <td>40</td>\n",
       "      <td>26</td>\n",
       "      <td>0.72</td>\n",
       "      <td>LaurelQuade</td>\n",
       "      <td>pos</td>\n",
       "    </tr>\n",
       "    <tr>\n",
       "      <th>14</th>\n",
       "      <td>[oc] every time graham stephen (youtuber) said...</td>\n",
       "      <td>2021-12-18 21:19:19</td>\n",
       "      <td>152</td>\n",
       "      <td>1910</td>\n",
       "      <td>0.94</td>\n",
       "      <td>cpsmith</td>\n",
       "      <td>pos</td>\n",
       "    </tr>\n",
       "    <tr>\n",
       "      <th>15</th>\n",
       "      <td>[oc] thanks to brazil, latin america is a worl...</td>\n",
       "      <td>2021-12-18 19:25:34</td>\n",
       "      <td>729</td>\n",
       "      <td>9889</td>\n",
       "      <td>0.92</td>\n",
       "      <td>latinometrics</td>\n",
       "      <td>pos</td>\n",
       "    </tr>\n",
       "    <tr>\n",
       "      <th>16</th>\n",
       "      <td>elevation map of the alps [oc]</td>\n",
       "      <td>2021-12-18 18:36:33</td>\n",
       "      <td>17</td>\n",
       "      <td>147</td>\n",
       "      <td>0.95</td>\n",
       "      <td>Fejetlenfej</td>\n",
       "      <td>pos</td>\n",
       "    </tr>\n",
       "    <tr>\n",
       "      <th>17</th>\n",
       "      <td>[oc] christmas gift spending in the united states</td>\n",
       "      <td>2021-12-18 18:27:39</td>\n",
       "      <td>14</td>\n",
       "      <td>57</td>\n",
       "      <td>0.89</td>\n",
       "      <td>PieChartPirate</td>\n",
       "      <td>pos</td>\n",
       "    </tr>\n",
       "    <tr>\n",
       "      <th>18</th>\n",
       "      <td>[oc] employed us men aged 16-64 in 2014, by fa...</td>\n",
       "      <td>2021-12-18 18:08:13</td>\n",
       "      <td>7</td>\n",
       "      <td>0</td>\n",
       "      <td>0.46</td>\n",
       "      <td>drpoggioli</td>\n",
       "      <td>pos</td>\n",
       "    </tr>\n",
       "    <tr>\n",
       "      <th>19</th>\n",
       "      <td>chance of snow falling on christmas day across...</td>\n",
       "      <td>2021-12-18 16:48:36</td>\n",
       "      <td>75</td>\n",
       "      <td>161</td>\n",
       "      <td>0.74</td>\n",
       "      <td>maps_us_eu</td>\n",
       "      <td>pos</td>\n",
       "    </tr>\n",
       "    <tr>\n",
       "      <th>20</th>\n",
       "      <td>[oc] the result of (almost) a year of recordin...</td>\n",
       "      <td>2021-12-18 16:32:51</td>\n",
       "      <td>5</td>\n",
       "      <td>15</td>\n",
       "      <td>0.72</td>\n",
       "      <td>LumpyStage5</td>\n",
       "      <td>pos</td>\n",
       "    </tr>\n",
       "    <tr>\n",
       "      <th>21</th>\n",
       "      <td>[oc] which states have the most fetlife users?...</td>\n",
       "      <td>2021-12-18 14:47:21</td>\n",
       "      <td>8</td>\n",
       "      <td>17</td>\n",
       "      <td>0.67</td>\n",
       "      <td>Fantastic-Berry-737</td>\n",
       "      <td>pos</td>\n",
       "    </tr>\n",
       "    <tr>\n",
       "      <th>22</th>\n",
       "      <td>[oc] tracking my 3-month job search: tailoring...</td>\n",
       "      <td>2021-12-18 13:20:07</td>\n",
       "      <td>14</td>\n",
       "      <td>2</td>\n",
       "      <td>0.53</td>\n",
       "      <td>Jogdlk180</td>\n",
       "      <td>pos</td>\n",
       "    </tr>\n",
       "    <tr>\n",
       "      <th>23</th>\n",
       "      <td>tree of life (incredible visualization showing...</td>\n",
       "      <td>2021-12-18 10:09:47</td>\n",
       "      <td>6</td>\n",
       "      <td>28</td>\n",
       "      <td>0.89</td>\n",
       "      <td>thislittleplace</td>\n",
       "      <td>neg</td>\n",
       "    </tr>\n",
       "    <tr>\n",
       "      <th>24</th>\n",
       "      <td>[oc] do you take the time to read the terms of...</td>\n",
       "      <td>2021-12-18 07:31:57</td>\n",
       "      <td>672</td>\n",
       "      <td>18642</td>\n",
       "      <td>0.96</td>\n",
       "      <td>preitylo</td>\n",
       "      <td>neg</td>\n",
       "    </tr>\n",
       "    <tr>\n",
       "      <th>25</th>\n",
       "      <td>note frequency in \"deck the halls\" [oc]</td>\n",
       "      <td>2021-12-18 06:56:58</td>\n",
       "      <td>2</td>\n",
       "      <td>7</td>\n",
       "      <td>0.65</td>\n",
       "      <td>JesusIsMyZoloft</td>\n",
       "      <td>pos</td>\n",
       "    </tr>\n",
       "    <tr>\n",
       "      <th>26</th>\n",
       "      <td>programming language by age [oc]</td>\n",
       "      <td>2021-12-18 00:19:01</td>\n",
       "      <td>134</td>\n",
       "      <td>666</td>\n",
       "      <td>0.87</td>\n",
       "      <td>misturbusy</td>\n",
       "      <td>pos</td>\n",
       "    </tr>\n",
       "    <tr>\n",
       "      <th>27</th>\n",
       "      <td>most popular restaurant cuisine in us cities a...</td>\n",
       "      <td>2021-12-17 22:49:32</td>\n",
       "      <td>24</td>\n",
       "      <td>55</td>\n",
       "      <td>0.90</td>\n",
       "      <td>meloveyummy</td>\n",
       "      <td>pos</td>\n",
       "    </tr>\n",
       "    <tr>\n",
       "      <th>28</th>\n",
       "      <td>how excited are people for the weekend based o...</td>\n",
       "      <td>2021-12-17 22:46:06</td>\n",
       "      <td>3</td>\n",
       "      <td>30</td>\n",
       "      <td>0.84</td>\n",
       "      <td>datawazo</td>\n",
       "      <td>pos</td>\n",
       "    </tr>\n",
       "    <tr>\n",
       "      <th>29</th>\n",
       "      <td>[oc] who gets the most gifts as seen by search...</td>\n",
       "      <td>2021-12-17 22:37:36</td>\n",
       "      <td>157</td>\n",
       "      <td>2482</td>\n",
       "      <td>0.95</td>\n",
       "      <td>DataVizzdom</td>\n",
       "      <td>pos</td>\n",
       "    </tr>\n",
       "    <tr>\n",
       "      <th>30</th>\n",
       "      <td>a map of iran, composed of the different patte...</td>\n",
       "      <td>2021-12-17 22:27:18</td>\n",
       "      <td>5</td>\n",
       "      <td>131</td>\n",
       "      <td>0.94</td>\n",
       "      <td>Apoplexi1</td>\n",
       "      <td>pos</td>\n",
       "    </tr>\n",
       "    <tr>\n",
       "      <th>31</th>\n",
       "      <td>new daily covid cases in quebec hit record hig...</td>\n",
       "      <td>2021-12-17 21:45:04</td>\n",
       "      <td>12</td>\n",
       "      <td>23</td>\n",
       "      <td>0.81</td>\n",
       "      <td>atomofconsumption</td>\n",
       "      <td>neg</td>\n",
       "    </tr>\n",
       "    <tr>\n",
       "      <th>32</th>\n",
       "      <td>interactive treemap showing how much wealth th...</td>\n",
       "      <td>2021-12-17 21:41:48</td>\n",
       "      <td>6</td>\n",
       "      <td>16</td>\n",
       "      <td>0.87</td>\n",
       "      <td>EngagingData</td>\n",
       "      <td>pos</td>\n",
       "    </tr>\n",
       "    <tr>\n",
       "      <th>33</th>\n",
       "      <td>public opinion on nuclear power (1978-2009) in...</td>\n",
       "      <td>2021-12-17 21:01:54</td>\n",
       "      <td>55</td>\n",
       "      <td>44</td>\n",
       "      <td>0.70</td>\n",
       "      <td>Supertang8</td>\n",
       "      <td>pos</td>\n",
       "    </tr>\n",
       "    <tr>\n",
       "      <th>34</th>\n",
       "      <td>the rise of the money youtuber</td>\n",
       "      <td>2021-12-17 19:41:02</td>\n",
       "      <td>2</td>\n",
       "      <td>0</td>\n",
       "      <td>0.27</td>\n",
       "      <td>jlbkin91</td>\n",
       "      <td>pos</td>\n",
       "    </tr>\n",
       "    <tr>\n",
       "      <th>35</th>\n",
       "      <td>[oc] noon of the 1st of every month of 2021 in...</td>\n",
       "      <td>2021-12-17 16:01:29</td>\n",
       "      <td>6</td>\n",
       "      <td>58</td>\n",
       "      <td>0.91</td>\n",
       "      <td>YaBoyAdvanceSP</td>\n",
       "      <td>pos</td>\n",
       "    </tr>\n",
       "    <tr>\n",
       "      <th>36</th>\n",
       "      <td>the most commonly spoken language in every u.s...</td>\n",
       "      <td>2021-12-17 17:21:49</td>\n",
       "      <td>15</td>\n",
       "      <td>5</td>\n",
       "      <td>0.62</td>\n",
       "      <td>yeehaw1005</td>\n",
       "      <td>pos</td>\n",
       "    </tr>\n",
       "    <tr>\n",
       "      <th>37</th>\n",
       "      <td>animation: if every state in india lived as de...</td>\n",
       "      <td>2021-12-17 17:04:07</td>\n",
       "      <td>138</td>\n",
       "      <td>4902</td>\n",
       "      <td>0.97</td>\n",
       "      <td>pratapvardhan</td>\n",
       "      <td>pos</td>\n",
       "    </tr>\n",
       "    <tr>\n",
       "      <th>38</th>\n",
       "      <td>simulation of euler's number [oc]</td>\n",
       "      <td>2021-12-17 16:20:47</td>\n",
       "      <td>741</td>\n",
       "      <td>14465</td>\n",
       "      <td>0.95</td>\n",
       "      <td>Candpolit</td>\n",
       "      <td>pos</td>\n",
       "    </tr>\n",
       "    <tr>\n",
       "      <th>39</th>\n",
       "      <td>[oc] map animation showing record rainfall acr...</td>\n",
       "      <td>2021-12-17 16:09:03</td>\n",
       "      <td>47</td>\n",
       "      <td>681</td>\n",
       "      <td>0.98</td>\n",
       "      <td>sdbernard</td>\n",
       "      <td>pos</td>\n",
       "    </tr>\n",
       "    <tr>\n",
       "      <th>40</th>\n",
       "      <td>correlation between democracy level and freedo...</td>\n",
       "      <td>2021-12-17 16:01:44</td>\n",
       "      <td>35</td>\n",
       "      <td>83</td>\n",
       "      <td>0.80</td>\n",
       "      <td>camlehuj</td>\n",
       "      <td>pos</td>\n",
       "    </tr>\n",
       "    <tr>\n",
       "      <th>41</th>\n",
       "      <td>[oc] world map of the log4j cyber vulnerabilit...</td>\n",
       "      <td>2021-12-17 15:49:22</td>\n",
       "      <td>22</td>\n",
       "      <td>195</td>\n",
       "      <td>0.93</td>\n",
       "      <td>MCMZL</td>\n",
       "      <td>pos</td>\n",
       "    </tr>\n",
       "    <tr>\n",
       "      <th>42</th>\n",
       "      <td>[oc] 2d visualization of the u.s. house of rep...</td>\n",
       "      <td>2021-12-17 08:03:33</td>\n",
       "      <td>11</td>\n",
       "      <td>17</td>\n",
       "      <td>0.66</td>\n",
       "      <td>DataHippo</td>\n",
       "      <td>neg</td>\n",
       "    </tr>\n",
       "    <tr>\n",
       "      <th>43</th>\n",
       "      <td>pa health behavior measures correlate more wit...</td>\n",
       "      <td>2021-12-17 02:32:43</td>\n",
       "      <td>1</td>\n",
       "      <td>8</td>\n",
       "      <td>0.64</td>\n",
       "      <td>riccipt</td>\n",
       "      <td>pos</td>\n",
       "    </tr>\n",
       "    <tr>\n",
       "      <th>44</th>\n",
       "      <td>[oc] cumulative increase in meat product price...</td>\n",
       "      <td>2021-12-17 01:50:29</td>\n",
       "      <td>23</td>\n",
       "      <td>79</td>\n",
       "      <td>0.87</td>\n",
       "      <td>tukanmx</td>\n",
       "      <td>pos</td>\n",
       "    </tr>\n",
       "    <tr>\n",
       "      <th>45</th>\n",
       "      <td>[oc] north america topological line plot</td>\n",
       "      <td>2021-12-17 01:06:01</td>\n",
       "      <td>4</td>\n",
       "      <td>3</td>\n",
       "      <td>0.71</td>\n",
       "      <td>Kuchenkiller</td>\n",
       "      <td>pos</td>\n",
       "    </tr>\n",
       "    <tr>\n",
       "      <th>46</th>\n",
       "      <td>forest cover map of canada, colorblind friendl...</td>\n",
       "      <td>2021-12-16 21:09:55</td>\n",
       "      <td>34</td>\n",
       "      <td>586</td>\n",
       "      <td>0.95</td>\n",
       "      <td>Fejetlenfej</td>\n",
       "      <td>neg</td>\n",
       "    </tr>\n",
       "    <tr>\n",
       "      <th>47</th>\n",
       "      <td>[oc] diversity* –– 2020 election</td>\n",
       "      <td>2021-12-16 20:30:27</td>\n",
       "      <td>17</td>\n",
       "      <td>0</td>\n",
       "      <td>0.26</td>\n",
       "      <td>terrykrohe</td>\n",
       "      <td>pos</td>\n",
       "    </tr>\n",
       "    <tr>\n",
       "      <th>48</th>\n",
       "      <td>[oc] most popular hentai website in each country.</td>\n",
       "      <td>2021-12-16 19:49:47</td>\n",
       "      <td>1048</td>\n",
       "      <td>17823</td>\n",
       "      <td>0.89</td>\n",
       "      <td>sugnimmingus</td>\n",
       "      <td>pos</td>\n",
       "    </tr>\n",
       "    <tr>\n",
       "      <th>49</th>\n",
       "      <td>[oc] latam's giants are being replaced by new ...</td>\n",
       "      <td>2021-12-16 19:33:08</td>\n",
       "      <td>7</td>\n",
       "      <td>43</td>\n",
       "      <td>0.86</td>\n",
       "      <td>latinometrics</td>\n",
       "      <td>neg</td>\n",
       "    </tr>\n",
       "  </tbody>\n",
       "</table>\n",
       "</div>"
      ],
      "text/plain": [
       "                                                 text                time  \\\n",
       "0   my five months on hinge (flow diagram, stats) ... 2021-12-19 21:36:54   \n",
       "1   in 2021 i ran the streets of saint paul, mn. a... 2021-12-19 21:31:26   \n",
       "2                   [oc] 2021 in google search trends 2021-12-19 21:09:20   \n",
       "3   2021 yearly inflation (prices increases) acros... 2021-12-19 13:35:28   \n",
       "4   male vs. female share of reviews imdb movies [oc] 2021-12-19 19:20:45   \n",
       "5   [oc] the electrical grid of the continental u.... 2021-12-19 18:38:19   \n",
       "6   [oc] differences in rates of r/amitheasshole j... 2021-12-19 17:29:50   \n",
       "7       [oc] disappearing white christmas (1950-2020) 2021-12-19 17:28:30   \n",
       "8   unicorn startups data analysis and visualizati... 2021-12-19 11:38:18   \n",
       "9                   countries that have been to space 2021-12-19 10:08:28   \n",
       "10  treevis.net - 333 techniques for visualizing t... 2021-12-19 10:06:31   \n",
       "11  categories where usa is number one (god bless ... 2021-12-19 09:53:52   \n",
       "12  [oc] the remarkable career of lebron james: co... 2021-12-19 02:04:31   \n",
       "13  which countries have the biggest and the small... 2021-12-18 23:32:45   \n",
       "14  [oc] every time graham stephen (youtuber) said... 2021-12-18 21:19:19   \n",
       "15  [oc] thanks to brazil, latin america is a worl... 2021-12-18 19:25:34   \n",
       "16                     elevation map of the alps [oc] 2021-12-18 18:36:33   \n",
       "17  [oc] christmas gift spending in the united states 2021-12-18 18:27:39   \n",
       "18  [oc] employed us men aged 16-64 in 2014, by fa... 2021-12-18 18:08:13   \n",
       "19  chance of snow falling on christmas day across... 2021-12-18 16:48:36   \n",
       "20  [oc] the result of (almost) a year of recordin... 2021-12-18 16:32:51   \n",
       "21  [oc] which states have the most fetlife users?... 2021-12-18 14:47:21   \n",
       "22  [oc] tracking my 3-month job search: tailoring... 2021-12-18 13:20:07   \n",
       "23  tree of life (incredible visualization showing... 2021-12-18 10:09:47   \n",
       "24  [oc] do you take the time to read the terms of... 2021-12-18 07:31:57   \n",
       "25            note frequency in \"deck the halls\" [oc] 2021-12-18 06:56:58   \n",
       "26                   programming language by age [oc] 2021-12-18 00:19:01   \n",
       "27  most popular restaurant cuisine in us cities a... 2021-12-17 22:49:32   \n",
       "28  how excited are people for the weekend based o... 2021-12-17 22:46:06   \n",
       "29  [oc] who gets the most gifts as seen by search... 2021-12-17 22:37:36   \n",
       "30  a map of iran, composed of the different patte... 2021-12-17 22:27:18   \n",
       "31  new daily covid cases in quebec hit record hig... 2021-12-17 21:45:04   \n",
       "32  interactive treemap showing how much wealth th... 2021-12-17 21:41:48   \n",
       "33  public opinion on nuclear power (1978-2009) in... 2021-12-17 21:01:54   \n",
       "34                     the rise of the money youtuber 2021-12-17 19:41:02   \n",
       "35  [oc] noon of the 1st of every month of 2021 in... 2021-12-17 16:01:29   \n",
       "36  the most commonly spoken language in every u.s... 2021-12-17 17:21:49   \n",
       "37  animation: if every state in india lived as de... 2021-12-17 17:04:07   \n",
       "38                  simulation of euler's number [oc] 2021-12-17 16:20:47   \n",
       "39  [oc] map animation showing record rainfall acr... 2021-12-17 16:09:03   \n",
       "40  correlation between democracy level and freedo... 2021-12-17 16:01:44   \n",
       "41  [oc] world map of the log4j cyber vulnerabilit... 2021-12-17 15:49:22   \n",
       "42  [oc] 2d visualization of the u.s. house of rep... 2021-12-17 08:03:33   \n",
       "43  pa health behavior measures correlate more wit... 2021-12-17 02:32:43   \n",
       "44  [oc] cumulative increase in meat product price... 2021-12-17 01:50:29   \n",
       "45           [oc] north america topological line plot 2021-12-17 01:06:01   \n",
       "46  forest cover map of canada, colorblind friendl... 2021-12-16 21:09:55   \n",
       "47                   [oc] diversity* –– 2020 election 2021-12-16 20:30:27   \n",
       "48  [oc] most popular hentai website in each country. 2021-12-16 19:49:47   \n",
       "49  [oc] latam's giants are being replaced by new ... 2021-12-16 19:33:08   \n",
       "\n",
       "    num_comments  num_upvotes  upvote_ratio             redditor sentiment  \n",
       "0              4            2          1.00    SaberInTheBathtub       pos  \n",
       "1              6           27          0.97         Runningmanmn       neg  \n",
       "2              6           30          0.97              joweich       pos  \n",
       "3            230         1820          0.91           maps_us_eu       pos  \n",
       "4             21           57          0.87         nickkuiper11       neg  \n",
       "5             55          618          0.97             ptgorman       neg  \n",
       "6              4            0          0.42              jarrjam       pos  \n",
       "7            233         3581          0.97       a__square__peg       neg  \n",
       "8              0            1          0.67        call_me_ninza       neg  \n",
       "9              8            5          0.59          radinsarraf       pos  \n",
       "10             0            4          0.75                breck       pos  \n",
       "11            11            0          0.32   Infinite-Praline52       pos  \n",
       "12             6            0          0.29  whatweshouldcallyou       pos  \n",
       "13            40           26          0.72          LaurelQuade       pos  \n",
       "14           152         1910          0.94              cpsmith       pos  \n",
       "15           729         9889          0.92        latinometrics       pos  \n",
       "16            17          147          0.95          Fejetlenfej       pos  \n",
       "17            14           57          0.89       PieChartPirate       pos  \n",
       "18             7            0          0.46           drpoggioli       pos  \n",
       "19            75          161          0.74           maps_us_eu       pos  \n",
       "20             5           15          0.72          LumpyStage5       pos  \n",
       "21             8           17          0.67  Fantastic-Berry-737       pos  \n",
       "22            14            2          0.53            Jogdlk180       pos  \n",
       "23             6           28          0.89      thislittleplace       neg  \n",
       "24           672        18642          0.96             preitylo       neg  \n",
       "25             2            7          0.65      JesusIsMyZoloft       pos  \n",
       "26           134          666          0.87           misturbusy       pos  \n",
       "27            24           55          0.90          meloveyummy       pos  \n",
       "28             3           30          0.84             datawazo       pos  \n",
       "29           157         2482          0.95          DataVizzdom       pos  \n",
       "30             5          131          0.94            Apoplexi1       pos  \n",
       "31            12           23          0.81    atomofconsumption       neg  \n",
       "32             6           16          0.87         EngagingData       pos  \n",
       "33            55           44          0.70           Supertang8       pos  \n",
       "34             2            0          0.27             jlbkin91       pos  \n",
       "35             6           58          0.91       YaBoyAdvanceSP       pos  \n",
       "36            15            5          0.62           yeehaw1005       pos  \n",
       "37           138         4902          0.97        pratapvardhan       pos  \n",
       "38           741        14465          0.95            Candpolit       pos  \n",
       "39            47          681          0.98            sdbernard       pos  \n",
       "40            35           83          0.80             camlehuj       pos  \n",
       "41            22          195          0.93                MCMZL       pos  \n",
       "42            11           17          0.66            DataHippo       neg  \n",
       "43             1            8          0.64              riccipt       pos  \n",
       "44            23           79          0.87              tukanmx       pos  \n",
       "45             4            3          0.71         Kuchenkiller       pos  \n",
       "46            34          586          0.95          Fejetlenfej       neg  \n",
       "47            17            0          0.26           terrykrohe       pos  \n",
       "48          1048        17823          0.89         sugnimmingus       pos  \n",
       "49             7           43          0.86        latinometrics       neg  "
      ]
     },
     "execution_count": 17,
     "metadata": {},
     "output_type": "execute_result"
    }
   ],
   "source": [
    "import datetime\n",
    "subreddit = reddit.subreddit('dataisbeautiful')\n",
    "\n",
    "print(subreddit.display_name)  # Output: iama\n",
    "print(subreddit.title)         # Output:I Am A, where the mundane...\n",
    "\n",
    "# for submission in subreddit.hot(limit=50):\n",
    "#     print(submission.title)  # Output: the submission's title\n",
    "#     print(submission.score)  # Output: the submission's upvotes\n",
    "#     print(submission.id)     # Output: the submission's ID\n",
    "#     print(submission.url)    # Output: the URL\n",
    "\n",
    "text = []\n",
    "time = []\n",
    "num_upvotes = []\n",
    "num_comments = []\n",
    "upvote_ratio = []\n",
    "# link_flair = []\n",
    "redditor = []\n",
    "sentiment = []\n",
    "# Türkçe Karalterlerin Düzeltilmesi\n",
    "duzeltilecek_harfler = \"çÇğĞıİöÖşŞüÜ\"\n",
    "duzeltilmis_harfler = \"cCgGiIoOsSuU\"\n",
    "\n",
    "\n",
    "alfabe_duzeltme = str.maketrans(duzeltilecek_harfler, duzeltilmis_harfler)\n",
    "\n",
    "i=1\n",
    "for submission in subreddit.new(limit=50):\n",
    "    i+=1\n",
    "    text.append(submission.title.translate(alfabe_duzeltme).lower())\n",
    "    time.append(datetime.datetime.fromtimestamp(submission.created_utc))\n",
    "    num_upvotes.append(submission.score)\n",
    "    num_comments.append(submission.num_comments)\n",
    "    upvote_ratio.append(submission.upvote_ratio)\n",
    "#     link_flair.append(submission.link_flair_text)\n",
    "    redditor.append(submission.author)\n",
    "    sentence = submission.title.translate(alfabe_duzeltme).lower()\n",
    "    blob_object = TextBlob(sentence, analyzer=NaiveBayesAnalyzer())\n",
    "    # Running sentiment analysis\n",
    "    analysis = blob_object.sentiment\n",
    "    sentiment.append(analysis.classification)\n",
    "    if i%5 == 0:\n",
    "        print(f'{i} submissions completed')\n",
    "\n",
    "df = pd.DataFrame(\n",
    "    {'text': text,\n",
    "     'time': time,\n",
    "     'num_comments': num_comments,\n",
    "     'num_upvotes': num_upvotes,\n",
    "     'upvote_ratio': upvote_ratio,\n",
    "#      'link_flair': link_flair,\n",
    "     'redditor': redditor,\n",
    "     'sentiment': sentiment\n",
    "    })\n",
    "df.head(50)"
   ]
  },
  {
   "cell_type": "code",
   "execution_count": 18,
   "id": "380bc81f",
   "metadata": {},
   "outputs": [
    {
     "data": {
      "text/html": [
       "<div>\n",
       "<style scoped>\n",
       "    .dataframe tbody tr th:only-of-type {\n",
       "        vertical-align: middle;\n",
       "    }\n",
       "\n",
       "    .dataframe tbody tr th {\n",
       "        vertical-align: top;\n",
       "    }\n",
       "\n",
       "    .dataframe thead th {\n",
       "        text-align: right;\n",
       "    }\n",
       "</style>\n",
       "<table border=\"1\" class=\"dataframe\">\n",
       "  <thead>\n",
       "    <tr style=\"text-align: right;\">\n",
       "      <th></th>\n",
       "      <th>text</th>\n",
       "      <th>time</th>\n",
       "      <th>num_comments</th>\n",
       "      <th>num_upvotes</th>\n",
       "      <th>upvote_ratio</th>\n",
       "      <th>redditor</th>\n",
       "      <th>sentiment</th>\n",
       "    </tr>\n",
       "  </thead>\n",
       "  <tbody>\n",
       "    <tr>\n",
       "      <th>0</th>\n",
       "      <td>my five months on hinge (flow diagram, stats) ...</td>\n",
       "      <td>2021-12-19 21:36:54</td>\n",
       "      <td>4</td>\n",
       "      <td>2</td>\n",
       "      <td>1.00</td>\n",
       "      <td>SaberInTheBathtub</td>\n",
       "      <td>pos</td>\n",
       "    </tr>\n",
       "    <tr>\n",
       "      <th>1</th>\n",
       "      <td>in 2021 i ran the streets of saint paul, mn. a...</td>\n",
       "      <td>2021-12-19 21:31:26</td>\n",
       "      <td>6</td>\n",
       "      <td>27</td>\n",
       "      <td>0.97</td>\n",
       "      <td>Runningmanmn</td>\n",
       "      <td>neg</td>\n",
       "    </tr>\n",
       "    <tr>\n",
       "      <th>2</th>\n",
       "      <td>[oc] 2021 in google search trends</td>\n",
       "      <td>2021-12-19 21:09:20</td>\n",
       "      <td>6</td>\n",
       "      <td>30</td>\n",
       "      <td>0.97</td>\n",
       "      <td>joweich</td>\n",
       "      <td>pos</td>\n",
       "    </tr>\n",
       "    <tr>\n",
       "      <th>3</th>\n",
       "      <td>2021 yearly inflation (prices increases) acros...</td>\n",
       "      <td>2021-12-19 13:35:28</td>\n",
       "      <td>230</td>\n",
       "      <td>1820</td>\n",
       "      <td>0.91</td>\n",
       "      <td>maps_us_eu</td>\n",
       "      <td>pos</td>\n",
       "    </tr>\n",
       "    <tr>\n",
       "      <th>4</th>\n",
       "      <td>male vs. female share of reviews imdb movies [oc]</td>\n",
       "      <td>2021-12-19 19:20:45</td>\n",
       "      <td>21</td>\n",
       "      <td>57</td>\n",
       "      <td>0.87</td>\n",
       "      <td>nickkuiper11</td>\n",
       "      <td>neg</td>\n",
       "    </tr>\n",
       "    <tr>\n",
       "      <th>5</th>\n",
       "      <td>[oc] the electrical grid of the continental u....</td>\n",
       "      <td>2021-12-19 18:38:19</td>\n",
       "      <td>55</td>\n",
       "      <td>618</td>\n",
       "      <td>0.97</td>\n",
       "      <td>ptgorman</td>\n",
       "      <td>neg</td>\n",
       "    </tr>\n",
       "    <tr>\n",
       "      <th>6</th>\n",
       "      <td>[oc] differences in rates of r/amitheasshole j...</td>\n",
       "      <td>2021-12-19 17:29:50</td>\n",
       "      <td>4</td>\n",
       "      <td>0</td>\n",
       "      <td>0.42</td>\n",
       "      <td>jarrjam</td>\n",
       "      <td>pos</td>\n",
       "    </tr>\n",
       "    <tr>\n",
       "      <th>7</th>\n",
       "      <td>[oc] disappearing white christmas (1950-2020)</td>\n",
       "      <td>2021-12-19 17:28:30</td>\n",
       "      <td>233</td>\n",
       "      <td>3581</td>\n",
       "      <td>0.97</td>\n",
       "      <td>a__square__peg</td>\n",
       "      <td>neg</td>\n",
       "    </tr>\n",
       "    <tr>\n",
       "      <th>8</th>\n",
       "      <td>unicorn startups data analysis and visualizati...</td>\n",
       "      <td>2021-12-19 11:38:18</td>\n",
       "      <td>0</td>\n",
       "      <td>1</td>\n",
       "      <td>0.67</td>\n",
       "      <td>call_me_ninza</td>\n",
       "      <td>neg</td>\n",
       "    </tr>\n",
       "    <tr>\n",
       "      <th>9</th>\n",
       "      <td>countries that have been to space</td>\n",
       "      <td>2021-12-19 10:08:28</td>\n",
       "      <td>8</td>\n",
       "      <td>5</td>\n",
       "      <td>0.59</td>\n",
       "      <td>radinsarraf</td>\n",
       "      <td>pos</td>\n",
       "    </tr>\n",
       "    <tr>\n",
       "      <th>10</th>\n",
       "      <td>treevis.net - 333 techniques for visualizing t...</td>\n",
       "      <td>2021-12-19 10:06:31</td>\n",
       "      <td>0</td>\n",
       "      <td>4</td>\n",
       "      <td>0.75</td>\n",
       "      <td>breck</td>\n",
       "      <td>pos</td>\n",
       "    </tr>\n",
       "    <tr>\n",
       "      <th>11</th>\n",
       "      <td>categories where usa is number one (god bless ...</td>\n",
       "      <td>2021-12-19 09:53:52</td>\n",
       "      <td>11</td>\n",
       "      <td>0</td>\n",
       "      <td>0.32</td>\n",
       "      <td>Infinite-Praline52</td>\n",
       "      <td>pos</td>\n",
       "    </tr>\n",
       "    <tr>\n",
       "      <th>12</th>\n",
       "      <td>[oc] the remarkable career of lebron james: co...</td>\n",
       "      <td>2021-12-19 02:04:31</td>\n",
       "      <td>6</td>\n",
       "      <td>0</td>\n",
       "      <td>0.29</td>\n",
       "      <td>whatweshouldcallyou</td>\n",
       "      <td>pos</td>\n",
       "    </tr>\n",
       "    <tr>\n",
       "      <th>13</th>\n",
       "      <td>which countries have the biggest and the small...</td>\n",
       "      <td>2021-12-18 23:32:45</td>\n",
       "      <td>40</td>\n",
       "      <td>26</td>\n",
       "      <td>0.72</td>\n",
       "      <td>LaurelQuade</td>\n",
       "      <td>pos</td>\n",
       "    </tr>\n",
       "    <tr>\n",
       "      <th>14</th>\n",
       "      <td>[oc] every time graham stephen (youtuber) said...</td>\n",
       "      <td>2021-12-18 21:19:19</td>\n",
       "      <td>152</td>\n",
       "      <td>1910</td>\n",
       "      <td>0.94</td>\n",
       "      <td>cpsmith</td>\n",
       "      <td>pos</td>\n",
       "    </tr>\n",
       "    <tr>\n",
       "      <th>15</th>\n",
       "      <td>[oc] thanks to brazil, latin america is a worl...</td>\n",
       "      <td>2021-12-18 19:25:34</td>\n",
       "      <td>729</td>\n",
       "      <td>9889</td>\n",
       "      <td>0.92</td>\n",
       "      <td>latinometrics</td>\n",
       "      <td>pos</td>\n",
       "    </tr>\n",
       "    <tr>\n",
       "      <th>16</th>\n",
       "      <td>elevation map of the alps [oc]</td>\n",
       "      <td>2021-12-18 18:36:33</td>\n",
       "      <td>17</td>\n",
       "      <td>147</td>\n",
       "      <td>0.95</td>\n",
       "      <td>Fejetlenfej</td>\n",
       "      <td>pos</td>\n",
       "    </tr>\n",
       "    <tr>\n",
       "      <th>17</th>\n",
       "      <td>[oc] christmas gift spending in the united states</td>\n",
       "      <td>2021-12-18 18:27:39</td>\n",
       "      <td>14</td>\n",
       "      <td>57</td>\n",
       "      <td>0.89</td>\n",
       "      <td>PieChartPirate</td>\n",
       "      <td>pos</td>\n",
       "    </tr>\n",
       "    <tr>\n",
       "      <th>18</th>\n",
       "      <td>[oc] employed us men aged 16-64 in 2014, by fa...</td>\n",
       "      <td>2021-12-18 18:08:13</td>\n",
       "      <td>7</td>\n",
       "      <td>0</td>\n",
       "      <td>0.46</td>\n",
       "      <td>drpoggioli</td>\n",
       "      <td>pos</td>\n",
       "    </tr>\n",
       "    <tr>\n",
       "      <th>19</th>\n",
       "      <td>chance of snow falling on christmas day across...</td>\n",
       "      <td>2021-12-18 16:48:36</td>\n",
       "      <td>75</td>\n",
       "      <td>161</td>\n",
       "      <td>0.74</td>\n",
       "      <td>maps_us_eu</td>\n",
       "      <td>pos</td>\n",
       "    </tr>\n",
       "    <tr>\n",
       "      <th>20</th>\n",
       "      <td>[oc] the result of (almost) a year of recordin...</td>\n",
       "      <td>2021-12-18 16:32:51</td>\n",
       "      <td>5</td>\n",
       "      <td>15</td>\n",
       "      <td>0.72</td>\n",
       "      <td>LumpyStage5</td>\n",
       "      <td>pos</td>\n",
       "    </tr>\n",
       "    <tr>\n",
       "      <th>21</th>\n",
       "      <td>[oc] which states have the most fetlife users?...</td>\n",
       "      <td>2021-12-18 14:47:21</td>\n",
       "      <td>8</td>\n",
       "      <td>17</td>\n",
       "      <td>0.67</td>\n",
       "      <td>Fantastic-Berry-737</td>\n",
       "      <td>pos</td>\n",
       "    </tr>\n",
       "    <tr>\n",
       "      <th>22</th>\n",
       "      <td>[oc] tracking my 3-month job search: tailoring...</td>\n",
       "      <td>2021-12-18 13:20:07</td>\n",
       "      <td>14</td>\n",
       "      <td>2</td>\n",
       "      <td>0.53</td>\n",
       "      <td>Jogdlk180</td>\n",
       "      <td>pos</td>\n",
       "    </tr>\n",
       "    <tr>\n",
       "      <th>23</th>\n",
       "      <td>tree of life (incredible visualization showing...</td>\n",
       "      <td>2021-12-18 10:09:47</td>\n",
       "      <td>6</td>\n",
       "      <td>28</td>\n",
       "      <td>0.89</td>\n",
       "      <td>thislittleplace</td>\n",
       "      <td>neg</td>\n",
       "    </tr>\n",
       "    <tr>\n",
       "      <th>24</th>\n",
       "      <td>[oc] do you take the time to read the terms of...</td>\n",
       "      <td>2021-12-18 07:31:57</td>\n",
       "      <td>672</td>\n",
       "      <td>18642</td>\n",
       "      <td>0.96</td>\n",
       "      <td>preitylo</td>\n",
       "      <td>neg</td>\n",
       "    </tr>\n",
       "    <tr>\n",
       "      <th>25</th>\n",
       "      <td>note frequency in \"deck the halls\" [oc]</td>\n",
       "      <td>2021-12-18 06:56:58</td>\n",
       "      <td>2</td>\n",
       "      <td>7</td>\n",
       "      <td>0.65</td>\n",
       "      <td>JesusIsMyZoloft</td>\n",
       "      <td>pos</td>\n",
       "    </tr>\n",
       "    <tr>\n",
       "      <th>26</th>\n",
       "      <td>programming language by age [oc]</td>\n",
       "      <td>2021-12-18 00:19:01</td>\n",
       "      <td>134</td>\n",
       "      <td>666</td>\n",
       "      <td>0.87</td>\n",
       "      <td>misturbusy</td>\n",
       "      <td>pos</td>\n",
       "    </tr>\n",
       "    <tr>\n",
       "      <th>27</th>\n",
       "      <td>most popular restaurant cuisine in us cities a...</td>\n",
       "      <td>2021-12-17 22:49:32</td>\n",
       "      <td>24</td>\n",
       "      <td>55</td>\n",
       "      <td>0.90</td>\n",
       "      <td>meloveyummy</td>\n",
       "      <td>pos</td>\n",
       "    </tr>\n",
       "    <tr>\n",
       "      <th>28</th>\n",
       "      <td>how excited are people for the weekend based o...</td>\n",
       "      <td>2021-12-17 22:46:06</td>\n",
       "      <td>3</td>\n",
       "      <td>30</td>\n",
       "      <td>0.84</td>\n",
       "      <td>datawazo</td>\n",
       "      <td>pos</td>\n",
       "    </tr>\n",
       "    <tr>\n",
       "      <th>29</th>\n",
       "      <td>[oc] who gets the most gifts as seen by search...</td>\n",
       "      <td>2021-12-17 22:37:36</td>\n",
       "      <td>157</td>\n",
       "      <td>2482</td>\n",
       "      <td>0.95</td>\n",
       "      <td>DataVizzdom</td>\n",
       "      <td>pos</td>\n",
       "    </tr>\n",
       "    <tr>\n",
       "      <th>30</th>\n",
       "      <td>a map of iran, composed of the different patte...</td>\n",
       "      <td>2021-12-17 22:27:18</td>\n",
       "      <td>5</td>\n",
       "      <td>131</td>\n",
       "      <td>0.94</td>\n",
       "      <td>Apoplexi1</td>\n",
       "      <td>pos</td>\n",
       "    </tr>\n",
       "    <tr>\n",
       "      <th>31</th>\n",
       "      <td>new daily covid cases in quebec hit record hig...</td>\n",
       "      <td>2021-12-17 21:45:04</td>\n",
       "      <td>12</td>\n",
       "      <td>23</td>\n",
       "      <td>0.81</td>\n",
       "      <td>atomofconsumption</td>\n",
       "      <td>neg</td>\n",
       "    </tr>\n",
       "    <tr>\n",
       "      <th>32</th>\n",
       "      <td>interactive treemap showing how much wealth th...</td>\n",
       "      <td>2021-12-17 21:41:48</td>\n",
       "      <td>6</td>\n",
       "      <td>16</td>\n",
       "      <td>0.87</td>\n",
       "      <td>EngagingData</td>\n",
       "      <td>pos</td>\n",
       "    </tr>\n",
       "    <tr>\n",
       "      <th>33</th>\n",
       "      <td>public opinion on nuclear power (1978-2009) in...</td>\n",
       "      <td>2021-12-17 21:01:54</td>\n",
       "      <td>55</td>\n",
       "      <td>44</td>\n",
       "      <td>0.70</td>\n",
       "      <td>Supertang8</td>\n",
       "      <td>pos</td>\n",
       "    </tr>\n",
       "    <tr>\n",
       "      <th>34</th>\n",
       "      <td>the rise of the money youtuber</td>\n",
       "      <td>2021-12-17 19:41:02</td>\n",
       "      <td>2</td>\n",
       "      <td>0</td>\n",
       "      <td>0.27</td>\n",
       "      <td>jlbkin91</td>\n",
       "      <td>pos</td>\n",
       "    </tr>\n",
       "    <tr>\n",
       "      <th>35</th>\n",
       "      <td>[oc] noon of the 1st of every month of 2021 in...</td>\n",
       "      <td>2021-12-17 16:01:29</td>\n",
       "      <td>6</td>\n",
       "      <td>58</td>\n",
       "      <td>0.91</td>\n",
       "      <td>YaBoyAdvanceSP</td>\n",
       "      <td>pos</td>\n",
       "    </tr>\n",
       "    <tr>\n",
       "      <th>36</th>\n",
       "      <td>the most commonly spoken language in every u.s...</td>\n",
       "      <td>2021-12-17 17:21:49</td>\n",
       "      <td>15</td>\n",
       "      <td>5</td>\n",
       "      <td>0.62</td>\n",
       "      <td>yeehaw1005</td>\n",
       "      <td>pos</td>\n",
       "    </tr>\n",
       "    <tr>\n",
       "      <th>37</th>\n",
       "      <td>animation: if every state in india lived as de...</td>\n",
       "      <td>2021-12-17 17:04:07</td>\n",
       "      <td>138</td>\n",
       "      <td>4902</td>\n",
       "      <td>0.97</td>\n",
       "      <td>pratapvardhan</td>\n",
       "      <td>pos</td>\n",
       "    </tr>\n",
       "    <tr>\n",
       "      <th>38</th>\n",
       "      <td>simulation of euler's number [oc]</td>\n",
       "      <td>2021-12-17 16:20:47</td>\n",
       "      <td>741</td>\n",
       "      <td>14465</td>\n",
       "      <td>0.95</td>\n",
       "      <td>Candpolit</td>\n",
       "      <td>pos</td>\n",
       "    </tr>\n",
       "    <tr>\n",
       "      <th>39</th>\n",
       "      <td>[oc] map animation showing record rainfall acr...</td>\n",
       "      <td>2021-12-17 16:09:03</td>\n",
       "      <td>47</td>\n",
       "      <td>681</td>\n",
       "      <td>0.98</td>\n",
       "      <td>sdbernard</td>\n",
       "      <td>pos</td>\n",
       "    </tr>\n",
       "    <tr>\n",
       "      <th>40</th>\n",
       "      <td>correlation between democracy level and freedo...</td>\n",
       "      <td>2021-12-17 16:01:44</td>\n",
       "      <td>35</td>\n",
       "      <td>83</td>\n",
       "      <td>0.80</td>\n",
       "      <td>camlehuj</td>\n",
       "      <td>pos</td>\n",
       "    </tr>\n",
       "    <tr>\n",
       "      <th>41</th>\n",
       "      <td>[oc] world map of the log4j cyber vulnerabilit...</td>\n",
       "      <td>2021-12-17 15:49:22</td>\n",
       "      <td>22</td>\n",
       "      <td>195</td>\n",
       "      <td>0.93</td>\n",
       "      <td>MCMZL</td>\n",
       "      <td>pos</td>\n",
       "    </tr>\n",
       "    <tr>\n",
       "      <th>42</th>\n",
       "      <td>[oc] 2d visualization of the u.s. house of rep...</td>\n",
       "      <td>2021-12-17 08:03:33</td>\n",
       "      <td>11</td>\n",
       "      <td>17</td>\n",
       "      <td>0.66</td>\n",
       "      <td>DataHippo</td>\n",
       "      <td>neg</td>\n",
       "    </tr>\n",
       "    <tr>\n",
       "      <th>43</th>\n",
       "      <td>pa health behavior measures correlate more wit...</td>\n",
       "      <td>2021-12-17 02:32:43</td>\n",
       "      <td>1</td>\n",
       "      <td>8</td>\n",
       "      <td>0.64</td>\n",
       "      <td>riccipt</td>\n",
       "      <td>pos</td>\n",
       "    </tr>\n",
       "    <tr>\n",
       "      <th>44</th>\n",
       "      <td>[oc] cumulative increase in meat product price...</td>\n",
       "      <td>2021-12-17 01:50:29</td>\n",
       "      <td>23</td>\n",
       "      <td>79</td>\n",
       "      <td>0.87</td>\n",
       "      <td>tukanmx</td>\n",
       "      <td>pos</td>\n",
       "    </tr>\n",
       "    <tr>\n",
       "      <th>45</th>\n",
       "      <td>[oc] north america topological line plot</td>\n",
       "      <td>2021-12-17 01:06:01</td>\n",
       "      <td>4</td>\n",
       "      <td>3</td>\n",
       "      <td>0.71</td>\n",
       "      <td>Kuchenkiller</td>\n",
       "      <td>pos</td>\n",
       "    </tr>\n",
       "    <tr>\n",
       "      <th>46</th>\n",
       "      <td>forest cover map of canada, colorblind friendl...</td>\n",
       "      <td>2021-12-16 21:09:55</td>\n",
       "      <td>34</td>\n",
       "      <td>586</td>\n",
       "      <td>0.95</td>\n",
       "      <td>Fejetlenfej</td>\n",
       "      <td>neg</td>\n",
       "    </tr>\n",
       "    <tr>\n",
       "      <th>47</th>\n",
       "      <td>[oc] diversity* –– 2020 election</td>\n",
       "      <td>2021-12-16 20:30:27</td>\n",
       "      <td>17</td>\n",
       "      <td>0</td>\n",
       "      <td>0.26</td>\n",
       "      <td>terrykrohe</td>\n",
       "      <td>pos</td>\n",
       "    </tr>\n",
       "    <tr>\n",
       "      <th>48</th>\n",
       "      <td>[oc] most popular hentai website in each country.</td>\n",
       "      <td>2021-12-16 19:49:47</td>\n",
       "      <td>1048</td>\n",
       "      <td>17823</td>\n",
       "      <td>0.89</td>\n",
       "      <td>sugnimmingus</td>\n",
       "      <td>pos</td>\n",
       "    </tr>\n",
       "    <tr>\n",
       "      <th>49</th>\n",
       "      <td>[oc] latam's giants are being replaced by new ...</td>\n",
       "      <td>2021-12-16 19:33:08</td>\n",
       "      <td>7</td>\n",
       "      <td>43</td>\n",
       "      <td>0.86</td>\n",
       "      <td>latinometrics</td>\n",
       "      <td>neg</td>\n",
       "    </tr>\n",
       "  </tbody>\n",
       "</table>\n",
       "</div>"
      ],
      "text/plain": [
       "                                                 text                time  \\\n",
       "0   my five months on hinge (flow diagram, stats) ... 2021-12-19 21:36:54   \n",
       "1   in 2021 i ran the streets of saint paul, mn. a... 2021-12-19 21:31:26   \n",
       "2                   [oc] 2021 in google search trends 2021-12-19 21:09:20   \n",
       "3   2021 yearly inflation (prices increases) acros... 2021-12-19 13:35:28   \n",
       "4   male vs. female share of reviews imdb movies [oc] 2021-12-19 19:20:45   \n",
       "5   [oc] the electrical grid of the continental u.... 2021-12-19 18:38:19   \n",
       "6   [oc] differences in rates of r/amitheasshole j... 2021-12-19 17:29:50   \n",
       "7       [oc] disappearing white christmas (1950-2020) 2021-12-19 17:28:30   \n",
       "8   unicorn startups data analysis and visualizati... 2021-12-19 11:38:18   \n",
       "9                   countries that have been to space 2021-12-19 10:08:28   \n",
       "10  treevis.net - 333 techniques for visualizing t... 2021-12-19 10:06:31   \n",
       "11  categories where usa is number one (god bless ... 2021-12-19 09:53:52   \n",
       "12  [oc] the remarkable career of lebron james: co... 2021-12-19 02:04:31   \n",
       "13  which countries have the biggest and the small... 2021-12-18 23:32:45   \n",
       "14  [oc] every time graham stephen (youtuber) said... 2021-12-18 21:19:19   \n",
       "15  [oc] thanks to brazil, latin america is a worl... 2021-12-18 19:25:34   \n",
       "16                     elevation map of the alps [oc] 2021-12-18 18:36:33   \n",
       "17  [oc] christmas gift spending in the united states 2021-12-18 18:27:39   \n",
       "18  [oc] employed us men aged 16-64 in 2014, by fa... 2021-12-18 18:08:13   \n",
       "19  chance of snow falling on christmas day across... 2021-12-18 16:48:36   \n",
       "20  [oc] the result of (almost) a year of recordin... 2021-12-18 16:32:51   \n",
       "21  [oc] which states have the most fetlife users?... 2021-12-18 14:47:21   \n",
       "22  [oc] tracking my 3-month job search: tailoring... 2021-12-18 13:20:07   \n",
       "23  tree of life (incredible visualization showing... 2021-12-18 10:09:47   \n",
       "24  [oc] do you take the time to read the terms of... 2021-12-18 07:31:57   \n",
       "25            note frequency in \"deck the halls\" [oc] 2021-12-18 06:56:58   \n",
       "26                   programming language by age [oc] 2021-12-18 00:19:01   \n",
       "27  most popular restaurant cuisine in us cities a... 2021-12-17 22:49:32   \n",
       "28  how excited are people for the weekend based o... 2021-12-17 22:46:06   \n",
       "29  [oc] who gets the most gifts as seen by search... 2021-12-17 22:37:36   \n",
       "30  a map of iran, composed of the different patte... 2021-12-17 22:27:18   \n",
       "31  new daily covid cases in quebec hit record hig... 2021-12-17 21:45:04   \n",
       "32  interactive treemap showing how much wealth th... 2021-12-17 21:41:48   \n",
       "33  public opinion on nuclear power (1978-2009) in... 2021-12-17 21:01:54   \n",
       "34                     the rise of the money youtuber 2021-12-17 19:41:02   \n",
       "35  [oc] noon of the 1st of every month of 2021 in... 2021-12-17 16:01:29   \n",
       "36  the most commonly spoken language in every u.s... 2021-12-17 17:21:49   \n",
       "37  animation: if every state in india lived as de... 2021-12-17 17:04:07   \n",
       "38                  simulation of euler's number [oc] 2021-12-17 16:20:47   \n",
       "39  [oc] map animation showing record rainfall acr... 2021-12-17 16:09:03   \n",
       "40  correlation between democracy level and freedo... 2021-12-17 16:01:44   \n",
       "41  [oc] world map of the log4j cyber vulnerabilit... 2021-12-17 15:49:22   \n",
       "42  [oc] 2d visualization of the u.s. house of rep... 2021-12-17 08:03:33   \n",
       "43  pa health behavior measures correlate more wit... 2021-12-17 02:32:43   \n",
       "44  [oc] cumulative increase in meat product price... 2021-12-17 01:50:29   \n",
       "45           [oc] north america topological line plot 2021-12-17 01:06:01   \n",
       "46  forest cover map of canada, colorblind friendl... 2021-12-16 21:09:55   \n",
       "47                   [oc] diversity* –– 2020 election 2021-12-16 20:30:27   \n",
       "48  [oc] most popular hentai website in each country. 2021-12-16 19:49:47   \n",
       "49  [oc] latam's giants are being replaced by new ... 2021-12-16 19:33:08   \n",
       "\n",
       "    num_comments  num_upvotes  upvote_ratio             redditor sentiment  \n",
       "0              4            2          1.00    SaberInTheBathtub       pos  \n",
       "1              6           27          0.97         Runningmanmn       neg  \n",
       "2              6           30          0.97              joweich       pos  \n",
       "3            230         1820          0.91           maps_us_eu       pos  \n",
       "4             21           57          0.87         nickkuiper11       neg  \n",
       "5             55          618          0.97             ptgorman       neg  \n",
       "6              4            0          0.42              jarrjam       pos  \n",
       "7            233         3581          0.97       a__square__peg       neg  \n",
       "8              0            1          0.67        call_me_ninza       neg  \n",
       "9              8            5          0.59          radinsarraf       pos  \n",
       "10             0            4          0.75                breck       pos  \n",
       "11            11            0          0.32   Infinite-Praline52       pos  \n",
       "12             6            0          0.29  whatweshouldcallyou       pos  \n",
       "13            40           26          0.72          LaurelQuade       pos  \n",
       "14           152         1910          0.94              cpsmith       pos  \n",
       "15           729         9889          0.92        latinometrics       pos  \n",
       "16            17          147          0.95          Fejetlenfej       pos  \n",
       "17            14           57          0.89       PieChartPirate       pos  \n",
       "18             7            0          0.46           drpoggioli       pos  \n",
       "19            75          161          0.74           maps_us_eu       pos  \n",
       "20             5           15          0.72          LumpyStage5       pos  \n",
       "21             8           17          0.67  Fantastic-Berry-737       pos  \n",
       "22            14            2          0.53            Jogdlk180       pos  \n",
       "23             6           28          0.89      thislittleplace       neg  \n",
       "24           672        18642          0.96             preitylo       neg  \n",
       "25             2            7          0.65      JesusIsMyZoloft       pos  \n",
       "26           134          666          0.87           misturbusy       pos  \n",
       "27            24           55          0.90          meloveyummy       pos  \n",
       "28             3           30          0.84             datawazo       pos  \n",
       "29           157         2482          0.95          DataVizzdom       pos  \n",
       "30             5          131          0.94            Apoplexi1       pos  \n",
       "31            12           23          0.81    atomofconsumption       neg  \n",
       "32             6           16          0.87         EngagingData       pos  \n",
       "33            55           44          0.70           Supertang8       pos  \n",
       "34             2            0          0.27             jlbkin91       pos  \n",
       "35             6           58          0.91       YaBoyAdvanceSP       pos  \n",
       "36            15            5          0.62           yeehaw1005       pos  \n",
       "37           138         4902          0.97        pratapvardhan       pos  \n",
       "38           741        14465          0.95            Candpolit       pos  \n",
       "39            47          681          0.98            sdbernard       pos  \n",
       "40            35           83          0.80             camlehuj       pos  \n",
       "41            22          195          0.93                MCMZL       pos  \n",
       "42            11           17          0.66            DataHippo       neg  \n",
       "43             1            8          0.64              riccipt       pos  \n",
       "44            23           79          0.87              tukanmx       pos  \n",
       "45             4            3          0.71         Kuchenkiller       pos  \n",
       "46            34          586          0.95          Fejetlenfej       neg  \n",
       "47            17            0          0.26           terrykrohe       pos  \n",
       "48          1048        17823          0.89         sugnimmingus       pos  \n",
       "49             7           43          0.86        latinometrics       neg  "
      ]
     },
     "execution_count": 18,
     "metadata": {},
     "output_type": "execute_result"
    }
   ],
   "source": [
    "df = pd.DataFrame(\n",
    "    {'text': text,\n",
    "     'time': time,\n",
    "     'num_comments': num_comments,\n",
    "     'num_upvotes': num_upvotes,\n",
    "     'upvote_ratio': upvote_ratio,\n",
    "#      'link_flair': link_flair,\n",
    "     'redditor': redditor,\n",
    "     'sentiment': sentiment\n",
    "    })\n",
    "df.head(50)"
   ]
  },
  {
   "cell_type": "markdown",
   "id": "b7401cb9",
   "metadata": {},
   "source": [
    "# Model Eğitimi - Tensorflow"
   ]
  },
  {
   "cell_type": "code",
   "execution_count": 1,
   "id": "fe95d18f",
   "metadata": {},
   "outputs": [],
   "source": [
    "from textblob import TextBlob\n",
    "from sklearn import model_selection, preprocessing, linear_model, naive_bayes, metrics\n",
    "from sklearn.feature_extraction.text import TfidfVectorizer, CountVectorizer\n",
    "from sklearn import decomposition, ensemble\n",
    "\n",
    "import pandas, xgboost, numpy, textblob, string\n",
    "from keras.preprocessing import text, sequence\n",
    "from keras import layers, models, optimizers\n",
    "\n",
    "\n",
    "from warnings import filterwarnings\n",
    "filterwarnings('ignore')"
   ]
  },
  {
   "cell_type": "code",
   "execution_count": 2,
   "id": "43025d92",
   "metadata": {},
   "outputs": [],
   "source": [
    "import pandas as pd \n",
    "data = pd.read_csv(\"Reddit_Data.csv\")"
   ]
  },
  {
   "cell_type": "code",
   "execution_count": 3,
   "id": "ff24fd94",
   "metadata": {},
   "outputs": [
    {
     "data": {
      "text/html": [
       "<div>\n",
       "<style scoped>\n",
       "    .dataframe tbody tr th:only-of-type {\n",
       "        vertical-align: middle;\n",
       "    }\n",
       "\n",
       "    .dataframe tbody tr th {\n",
       "        vertical-align: top;\n",
       "    }\n",
       "\n",
       "    .dataframe thead th {\n",
       "        text-align: right;\n",
       "    }\n",
       "</style>\n",
       "<table border=\"1\" class=\"dataframe\">\n",
       "  <thead>\n",
       "    <tr style=\"text-align: right;\">\n",
       "      <th></th>\n",
       "      <th>clean_comment</th>\n",
       "      <th>category</th>\n",
       "    </tr>\n",
       "  </thead>\n",
       "  <tbody>\n",
       "    <tr>\n",
       "      <th>0</th>\n",
       "      <td>family mormon have never tried explain them t...</td>\n",
       "      <td>1</td>\n",
       "    </tr>\n",
       "    <tr>\n",
       "      <th>1</th>\n",
       "      <td>buddhism has very much lot compatible with chr...</td>\n",
       "      <td>1</td>\n",
       "    </tr>\n",
       "    <tr>\n",
       "      <th>2</th>\n",
       "      <td>seriously don say thing first all they won get...</td>\n",
       "      <td>-1</td>\n",
       "    </tr>\n",
       "    <tr>\n",
       "      <th>3</th>\n",
       "      <td>what you have learned yours and only yours wha...</td>\n",
       "      <td>0</td>\n",
       "    </tr>\n",
       "    <tr>\n",
       "      <th>4</th>\n",
       "      <td>for your own benefit you may want read living ...</td>\n",
       "      <td>1</td>\n",
       "    </tr>\n",
       "  </tbody>\n",
       "</table>\n",
       "</div>"
      ],
      "text/plain": [
       "                                       clean_comment  category\n",
       "0   family mormon have never tried explain them t...         1\n",
       "1  buddhism has very much lot compatible with chr...         1\n",
       "2  seriously don say thing first all they won get...        -1\n",
       "3  what you have learned yours and only yours wha...         0\n",
       "4  for your own benefit you may want read living ...         1"
      ]
     },
     "execution_count": 3,
     "metadata": {},
     "output_type": "execute_result"
    }
   ],
   "source": [
    "data.head()"
   ]
  },
  {
   "cell_type": "code",
   "execution_count": 4,
   "id": "744bdf82",
   "metadata": {},
   "outputs": [],
   "source": [
    "data[\"category\"].replace(-1, value = \"negatif\", inplace = True)\n",
    "data[\"category\"].replace(1, value = \"pozitif\", inplace = True)\n",
    "data[\"category\"].replace(0, value = \"notr\", inplace = True)"
   ]
  },
  {
   "cell_type": "code",
   "execution_count": 5,
   "id": "5252583b",
   "metadata": {},
   "outputs": [
    {
     "data": {
      "text/html": [
       "<div>\n",
       "<style scoped>\n",
       "    .dataframe tbody tr th:only-of-type {\n",
       "        vertical-align: middle;\n",
       "    }\n",
       "\n",
       "    .dataframe tbody tr th {\n",
       "        vertical-align: top;\n",
       "    }\n",
       "\n",
       "    .dataframe thead th {\n",
       "        text-align: right;\n",
       "    }\n",
       "</style>\n",
       "<table border=\"1\" class=\"dataframe\">\n",
       "  <thead>\n",
       "    <tr style=\"text-align: right;\">\n",
       "      <th></th>\n",
       "      <th>clean_comment</th>\n",
       "      <th>category</th>\n",
       "    </tr>\n",
       "  </thead>\n",
       "  <tbody>\n",
       "    <tr>\n",
       "      <th>0</th>\n",
       "      <td>family mormon have never tried explain them t...</td>\n",
       "      <td>pozitif</td>\n",
       "    </tr>\n",
       "    <tr>\n",
       "      <th>1</th>\n",
       "      <td>buddhism has very much lot compatible with chr...</td>\n",
       "      <td>pozitif</td>\n",
       "    </tr>\n",
       "    <tr>\n",
       "      <th>2</th>\n",
       "      <td>seriously don say thing first all they won get...</td>\n",
       "      <td>negatif</td>\n",
       "    </tr>\n",
       "    <tr>\n",
       "      <th>3</th>\n",
       "      <td>what you have learned yours and only yours wha...</td>\n",
       "      <td>notr</td>\n",
       "    </tr>\n",
       "    <tr>\n",
       "      <th>4</th>\n",
       "      <td>for your own benefit you may want read living ...</td>\n",
       "      <td>pozitif</td>\n",
       "    </tr>\n",
       "  </tbody>\n",
       "</table>\n",
       "</div>"
      ],
      "text/plain": [
       "                                       clean_comment category\n",
       "0   family mormon have never tried explain them t...  pozitif\n",
       "1  buddhism has very much lot compatible with chr...  pozitif\n",
       "2  seriously don say thing first all they won get...  negatif\n",
       "3  what you have learned yours and only yours wha...     notr\n",
       "4  for your own benefit you may want read living ...  pozitif"
      ]
     },
     "execution_count": 5,
     "metadata": {},
     "output_type": "execute_result"
    }
   ],
   "source": [
    "data.head()"
   ]
  },
  {
   "cell_type": "code",
   "execution_count": 6,
   "id": "bddde7d1",
   "metadata": {},
   "outputs": [],
   "source": [
    "# data = data[(data.category == \"negatif\") | (data.category == \"pozitif\")]"
   ]
  },
  {
   "cell_type": "code",
   "execution_count": 7,
   "id": "a6247ac5",
   "metadata": {},
   "outputs": [
    {
     "data": {
      "text/html": [
       "<div>\n",
       "<style scoped>\n",
       "    .dataframe tbody tr th:only-of-type {\n",
       "        vertical-align: middle;\n",
       "    }\n",
       "\n",
       "    .dataframe tbody tr th {\n",
       "        vertical-align: top;\n",
       "    }\n",
       "\n",
       "    .dataframe thead th {\n",
       "        text-align: right;\n",
       "    }\n",
       "</style>\n",
       "<table border=\"1\" class=\"dataframe\">\n",
       "  <thead>\n",
       "    <tr style=\"text-align: right;\">\n",
       "      <th></th>\n",
       "      <th>clean_comment</th>\n",
       "      <th>category</th>\n",
       "    </tr>\n",
       "  </thead>\n",
       "  <tbody>\n",
       "    <tr>\n",
       "      <th>0</th>\n",
       "      <td>family mormon have never tried explain them t...</td>\n",
       "      <td>pozitif</td>\n",
       "    </tr>\n",
       "    <tr>\n",
       "      <th>1</th>\n",
       "      <td>buddhism has very much lot compatible with chr...</td>\n",
       "      <td>pozitif</td>\n",
       "    </tr>\n",
       "    <tr>\n",
       "      <th>2</th>\n",
       "      <td>seriously don say thing first all they won get...</td>\n",
       "      <td>negatif</td>\n",
       "    </tr>\n",
       "    <tr>\n",
       "      <th>3</th>\n",
       "      <td>what you have learned yours and only yours wha...</td>\n",
       "      <td>notr</td>\n",
       "    </tr>\n",
       "    <tr>\n",
       "      <th>4</th>\n",
       "      <td>for your own benefit you may want read living ...</td>\n",
       "      <td>pozitif</td>\n",
       "    </tr>\n",
       "  </tbody>\n",
       "</table>\n",
       "</div>"
      ],
      "text/plain": [
       "                                       clean_comment category\n",
       "0   family mormon have never tried explain them t...  pozitif\n",
       "1  buddhism has very much lot compatible with chr...  pozitif\n",
       "2  seriously don say thing first all they won get...  negatif\n",
       "3  what you have learned yours and only yours wha...     notr\n",
       "4  for your own benefit you may want read living ...  pozitif"
      ]
     },
     "execution_count": 7,
     "metadata": {},
     "output_type": "execute_result"
    }
   ],
   "source": [
    "data.head()"
   ]
  },
  {
   "cell_type": "code",
   "execution_count": 8,
   "id": "b3d45cb7",
   "metadata": {},
   "outputs": [
    {
     "data": {
      "text/html": [
       "<div>\n",
       "<style scoped>\n",
       "    .dataframe tbody tr th:only-of-type {\n",
       "        vertical-align: middle;\n",
       "    }\n",
       "\n",
       "    .dataframe tbody tr th {\n",
       "        vertical-align: top;\n",
       "    }\n",
       "\n",
       "    .dataframe thead th {\n",
       "        text-align: right;\n",
       "    }\n",
       "</style>\n",
       "<table border=\"1\" class=\"dataframe\">\n",
       "  <thead>\n",
       "    <tr style=\"text-align: right;\">\n",
       "      <th></th>\n",
       "      <th>clean_comment</th>\n",
       "    </tr>\n",
       "    <tr>\n",
       "      <th>category</th>\n",
       "      <th></th>\n",
       "    </tr>\n",
       "  </thead>\n",
       "  <tbody>\n",
       "    <tr>\n",
       "      <th>negatif</th>\n",
       "      <td>8277</td>\n",
       "    </tr>\n",
       "    <tr>\n",
       "      <th>notr</th>\n",
       "      <td>13042</td>\n",
       "    </tr>\n",
       "    <tr>\n",
       "      <th>pozitif</th>\n",
       "      <td>15830</td>\n",
       "    </tr>\n",
       "  </tbody>\n",
       "</table>\n",
       "</div>"
      ],
      "text/plain": [
       "          clean_comment\n",
       "category               \n",
       "negatif            8277\n",
       "notr              13042\n",
       "pozitif           15830"
      ]
     },
     "execution_count": 8,
     "metadata": {},
     "output_type": "execute_result"
    }
   ],
   "source": [
    "data.groupby(\"category\").count()"
   ]
  },
  {
   "cell_type": "code",
   "execution_count": 9,
   "id": "6c3f0b12",
   "metadata": {},
   "outputs": [],
   "source": [
    "df = pd.DataFrame()\n",
    "df[\"text\"] = data[\"clean_comment\"]\n",
    "df[\"label\"] = data[\"category\"]"
   ]
  },
  {
   "cell_type": "code",
   "execution_count": 10,
   "id": "55ea214c",
   "metadata": {},
   "outputs": [
    {
     "data": {
      "text/html": [
       "<div>\n",
       "<style scoped>\n",
       "    .dataframe tbody tr th:only-of-type {\n",
       "        vertical-align: middle;\n",
       "    }\n",
       "\n",
       "    .dataframe tbody tr th {\n",
       "        vertical-align: top;\n",
       "    }\n",
       "\n",
       "    .dataframe thead th {\n",
       "        text-align: right;\n",
       "    }\n",
       "</style>\n",
       "<table border=\"1\" class=\"dataframe\">\n",
       "  <thead>\n",
       "    <tr style=\"text-align: right;\">\n",
       "      <th></th>\n",
       "      <th>text</th>\n",
       "      <th>label</th>\n",
       "    </tr>\n",
       "  </thead>\n",
       "  <tbody>\n",
       "    <tr>\n",
       "      <th>0</th>\n",
       "      <td>family mormon have never tried explain them t...</td>\n",
       "      <td>pozitif</td>\n",
       "    </tr>\n",
       "    <tr>\n",
       "      <th>1</th>\n",
       "      <td>buddhism has very much lot compatible with chr...</td>\n",
       "      <td>pozitif</td>\n",
       "    </tr>\n",
       "    <tr>\n",
       "      <th>2</th>\n",
       "      <td>seriously don say thing first all they won get...</td>\n",
       "      <td>negatif</td>\n",
       "    </tr>\n",
       "    <tr>\n",
       "      <th>3</th>\n",
       "      <td>what you have learned yours and only yours wha...</td>\n",
       "      <td>notr</td>\n",
       "    </tr>\n",
       "    <tr>\n",
       "      <th>4</th>\n",
       "      <td>for your own benefit you may want read living ...</td>\n",
       "      <td>pozitif</td>\n",
       "    </tr>\n",
       "  </tbody>\n",
       "</table>\n",
       "</div>"
      ],
      "text/plain": [
       "                                                text    label\n",
       "0   family mormon have never tried explain them t...  pozitif\n",
       "1  buddhism has very much lot compatible with chr...  pozitif\n",
       "2  seriously don say thing first all they won get...  negatif\n",
       "3  what you have learned yours and only yours wha...     notr\n",
       "4  for your own benefit you may want read living ...  pozitif"
      ]
     },
     "execution_count": 10,
     "metadata": {},
     "output_type": "execute_result"
    }
   ],
   "source": [
    "df.head()"
   ]
  },
  {
   "cell_type": "markdown",
   "id": "d08183b5",
   "metadata": {},
   "source": [
    "## Metin Ön İşleme"
   ]
  },
  {
   "cell_type": "code",
   "execution_count": 11,
   "id": "df71979c",
   "metadata": {
    "scrolled": true
   },
   "outputs": [
    {
     "ename": "AttributeError",
     "evalue": "'float' object has no attribute 'split'",
     "output_type": "error",
     "traceback": [
      "\u001b[1;31m---------------------------------------------------------------------------\u001b[0m",
      "\u001b[1;31mAttributeError\u001b[0m                            Traceback (most recent call last)",
      "\u001b[1;32m~\\AppData\\Local\\Temp/ipykernel_15016/1270469248.py\u001b[0m in \u001b[0;36m<module>\u001b[1;34m\u001b[0m\n\u001b[0;32m      1\u001b[0m \u001b[1;31m#buyuk-kucuk donusumu\u001b[0m\u001b[1;33m\u001b[0m\u001b[1;33m\u001b[0m\u001b[1;33m\u001b[0m\u001b[0m\n\u001b[1;32m----> 2\u001b[1;33m \u001b[0mdf\u001b[0m\u001b[1;33m[\u001b[0m\u001b[1;34m'text'\u001b[0m\u001b[1;33m]\u001b[0m \u001b[1;33m=\u001b[0m \u001b[0mdf\u001b[0m\u001b[1;33m[\u001b[0m\u001b[1;34m'text'\u001b[0m\u001b[1;33m]\u001b[0m\u001b[1;33m.\u001b[0m\u001b[0mapply\u001b[0m\u001b[1;33m(\u001b[0m\u001b[1;32mlambda\u001b[0m \u001b[0mx\u001b[0m\u001b[1;33m:\u001b[0m \u001b[1;34m\" \"\u001b[0m\u001b[1;33m.\u001b[0m\u001b[0mjoin\u001b[0m\u001b[1;33m(\u001b[0m\u001b[0mx\u001b[0m\u001b[1;33m.\u001b[0m\u001b[0mlower\u001b[0m\u001b[1;33m(\u001b[0m\u001b[1;33m)\u001b[0m \u001b[1;32mfor\u001b[0m \u001b[0mx\u001b[0m \u001b[1;32min\u001b[0m \u001b[0mx\u001b[0m\u001b[1;33m.\u001b[0m\u001b[0msplit\u001b[0m\u001b[1;33m(\u001b[0m\u001b[1;33m)\u001b[0m\u001b[1;33m)\u001b[0m\u001b[1;33m)\u001b[0m\u001b[1;33m\u001b[0m\u001b[1;33m\u001b[0m\u001b[0m\n\u001b[0m\u001b[0;32m      3\u001b[0m \u001b[1;31m#noktalama işaretleri\u001b[0m\u001b[1;33m\u001b[0m\u001b[1;33m\u001b[0m\u001b[1;33m\u001b[0m\u001b[0m\n\u001b[0;32m      4\u001b[0m \u001b[0mdf\u001b[0m\u001b[1;33m[\u001b[0m\u001b[1;34m'text'\u001b[0m\u001b[1;33m]\u001b[0m \u001b[1;33m=\u001b[0m \u001b[0mdf\u001b[0m\u001b[1;33m[\u001b[0m\u001b[1;34m'text'\u001b[0m\u001b[1;33m]\u001b[0m\u001b[1;33m.\u001b[0m\u001b[0mstr\u001b[0m\u001b[1;33m.\u001b[0m\u001b[0mreplace\u001b[0m\u001b[1;33m(\u001b[0m\u001b[1;34m'[^\\w\\s]'\u001b[0m\u001b[1;33m,\u001b[0m\u001b[1;34m''\u001b[0m\u001b[1;33m)\u001b[0m\u001b[1;33m\u001b[0m\u001b[1;33m\u001b[0m\u001b[0m\n\u001b[0;32m      5\u001b[0m \u001b[1;31m#sayılar\u001b[0m\u001b[1;33m\u001b[0m\u001b[1;33m\u001b[0m\u001b[1;33m\u001b[0m\u001b[0m\n",
      "\u001b[1;32mc:\\users\\husey\\appdata\\local\\programs\\python\\python38\\lib\\site-packages\\pandas\\core\\series.py\u001b[0m in \u001b[0;36mapply\u001b[1;34m(self, func, convert_dtype, args, **kwargs)\u001b[0m\n\u001b[0;32m   4355\u001b[0m         \u001b[0mdtype\u001b[0m\u001b[1;33m:\u001b[0m \u001b[0mfloat64\u001b[0m\u001b[1;33m\u001b[0m\u001b[1;33m\u001b[0m\u001b[0m\n\u001b[0;32m   4356\u001b[0m         \"\"\"\n\u001b[1;32m-> 4357\u001b[1;33m         \u001b[1;32mreturn\u001b[0m \u001b[0mSeriesApply\u001b[0m\u001b[1;33m(\u001b[0m\u001b[0mself\u001b[0m\u001b[1;33m,\u001b[0m \u001b[0mfunc\u001b[0m\u001b[1;33m,\u001b[0m \u001b[0mconvert_dtype\u001b[0m\u001b[1;33m,\u001b[0m \u001b[0margs\u001b[0m\u001b[1;33m,\u001b[0m \u001b[0mkwargs\u001b[0m\u001b[1;33m)\u001b[0m\u001b[1;33m.\u001b[0m\u001b[0mapply\u001b[0m\u001b[1;33m(\u001b[0m\u001b[1;33m)\u001b[0m\u001b[1;33m\u001b[0m\u001b[1;33m\u001b[0m\u001b[0m\n\u001b[0m\u001b[0;32m   4358\u001b[0m \u001b[1;33m\u001b[0m\u001b[0m\n\u001b[0;32m   4359\u001b[0m     def _reduce(\n",
      "\u001b[1;32mc:\\users\\husey\\appdata\\local\\programs\\python\\python38\\lib\\site-packages\\pandas\\core\\apply.py\u001b[0m in \u001b[0;36mapply\u001b[1;34m(self)\u001b[0m\n\u001b[0;32m   1041\u001b[0m             \u001b[1;32mreturn\u001b[0m \u001b[0mself\u001b[0m\u001b[1;33m.\u001b[0m\u001b[0mapply_str\u001b[0m\u001b[1;33m(\u001b[0m\u001b[1;33m)\u001b[0m\u001b[1;33m\u001b[0m\u001b[1;33m\u001b[0m\u001b[0m\n\u001b[0;32m   1042\u001b[0m \u001b[1;33m\u001b[0m\u001b[0m\n\u001b[1;32m-> 1043\u001b[1;33m         \u001b[1;32mreturn\u001b[0m \u001b[0mself\u001b[0m\u001b[1;33m.\u001b[0m\u001b[0mapply_standard\u001b[0m\u001b[1;33m(\u001b[0m\u001b[1;33m)\u001b[0m\u001b[1;33m\u001b[0m\u001b[1;33m\u001b[0m\u001b[0m\n\u001b[0m\u001b[0;32m   1044\u001b[0m \u001b[1;33m\u001b[0m\u001b[0m\n\u001b[0;32m   1045\u001b[0m     \u001b[1;32mdef\u001b[0m \u001b[0magg\u001b[0m\u001b[1;33m(\u001b[0m\u001b[0mself\u001b[0m\u001b[1;33m)\u001b[0m\u001b[1;33m:\u001b[0m\u001b[1;33m\u001b[0m\u001b[1;33m\u001b[0m\u001b[0m\n",
      "\u001b[1;32mc:\\users\\husey\\appdata\\local\\programs\\python\\python38\\lib\\site-packages\\pandas\\core\\apply.py\u001b[0m in \u001b[0;36mapply_standard\u001b[1;34m(self)\u001b[0m\n\u001b[0;32m   1096\u001b[0m                 \u001b[1;31m# List[Union[Callable[..., Any], str]]]]]\"; expected\u001b[0m\u001b[1;33m\u001b[0m\u001b[1;33m\u001b[0m\u001b[1;33m\u001b[0m\u001b[0m\n\u001b[0;32m   1097\u001b[0m                 \u001b[1;31m# \"Callable[[Any], Any]\"\u001b[0m\u001b[1;33m\u001b[0m\u001b[1;33m\u001b[0m\u001b[1;33m\u001b[0m\u001b[0m\n\u001b[1;32m-> 1098\u001b[1;33m                 mapped = lib.map_infer(\n\u001b[0m\u001b[0;32m   1099\u001b[0m                     \u001b[0mvalues\u001b[0m\u001b[1;33m,\u001b[0m\u001b[1;33m\u001b[0m\u001b[1;33m\u001b[0m\u001b[0m\n\u001b[0;32m   1100\u001b[0m                     \u001b[0mf\u001b[0m\u001b[1;33m,\u001b[0m  \u001b[1;31m# type: ignore[arg-type]\u001b[0m\u001b[1;33m\u001b[0m\u001b[1;33m\u001b[0m\u001b[0m\n",
      "\u001b[1;32mc:\\users\\husey\\appdata\\local\\programs\\python\\python38\\lib\\site-packages\\pandas\\_libs\\lib.pyx\u001b[0m in \u001b[0;36mpandas._libs.lib.map_infer\u001b[1;34m()\u001b[0m\n",
      "\u001b[1;32m~\\AppData\\Local\\Temp/ipykernel_15016/1270469248.py\u001b[0m in \u001b[0;36m<lambda>\u001b[1;34m(x)\u001b[0m\n\u001b[0;32m      1\u001b[0m \u001b[1;31m#buyuk-kucuk donusumu\u001b[0m\u001b[1;33m\u001b[0m\u001b[1;33m\u001b[0m\u001b[1;33m\u001b[0m\u001b[0m\n\u001b[1;32m----> 2\u001b[1;33m \u001b[0mdf\u001b[0m\u001b[1;33m[\u001b[0m\u001b[1;34m'text'\u001b[0m\u001b[1;33m]\u001b[0m \u001b[1;33m=\u001b[0m \u001b[0mdf\u001b[0m\u001b[1;33m[\u001b[0m\u001b[1;34m'text'\u001b[0m\u001b[1;33m]\u001b[0m\u001b[1;33m.\u001b[0m\u001b[0mapply\u001b[0m\u001b[1;33m(\u001b[0m\u001b[1;32mlambda\u001b[0m \u001b[0mx\u001b[0m\u001b[1;33m:\u001b[0m \u001b[1;34m\" \"\u001b[0m\u001b[1;33m.\u001b[0m\u001b[0mjoin\u001b[0m\u001b[1;33m(\u001b[0m\u001b[0mx\u001b[0m\u001b[1;33m.\u001b[0m\u001b[0mlower\u001b[0m\u001b[1;33m(\u001b[0m\u001b[1;33m)\u001b[0m \u001b[1;32mfor\u001b[0m \u001b[0mx\u001b[0m \u001b[1;32min\u001b[0m \u001b[0mx\u001b[0m\u001b[1;33m.\u001b[0m\u001b[0msplit\u001b[0m\u001b[1;33m(\u001b[0m\u001b[1;33m)\u001b[0m\u001b[1;33m)\u001b[0m\u001b[1;33m)\u001b[0m\u001b[1;33m\u001b[0m\u001b[1;33m\u001b[0m\u001b[0m\n\u001b[0m\u001b[0;32m      3\u001b[0m \u001b[1;31m#noktalama işaretleri\u001b[0m\u001b[1;33m\u001b[0m\u001b[1;33m\u001b[0m\u001b[1;33m\u001b[0m\u001b[0m\n\u001b[0;32m      4\u001b[0m \u001b[0mdf\u001b[0m\u001b[1;33m[\u001b[0m\u001b[1;34m'text'\u001b[0m\u001b[1;33m]\u001b[0m \u001b[1;33m=\u001b[0m \u001b[0mdf\u001b[0m\u001b[1;33m[\u001b[0m\u001b[1;34m'text'\u001b[0m\u001b[1;33m]\u001b[0m\u001b[1;33m.\u001b[0m\u001b[0mstr\u001b[0m\u001b[1;33m.\u001b[0m\u001b[0mreplace\u001b[0m\u001b[1;33m(\u001b[0m\u001b[1;34m'[^\\w\\s]'\u001b[0m\u001b[1;33m,\u001b[0m\u001b[1;34m''\u001b[0m\u001b[1;33m)\u001b[0m\u001b[1;33m\u001b[0m\u001b[1;33m\u001b[0m\u001b[0m\n\u001b[0;32m      5\u001b[0m \u001b[1;31m#sayılar\u001b[0m\u001b[1;33m\u001b[0m\u001b[1;33m\u001b[0m\u001b[1;33m\u001b[0m\u001b[0m\n",
      "\u001b[1;31mAttributeError\u001b[0m: 'float' object has no attribute 'split'"
     ]
    }
   ],
   "source": [
    "#buyuk-kucuk donusumu\n",
    "df['text'] = df['text'].apply(lambda x: \" \".join(x.lower() for x in x.split()))\n",
    "#noktalama işaretleri\n",
    "df['text'] = df['text'].str.replace('[^\\w\\s]','')\n",
    "#sayılar\n",
    "df['text'] = df['text'].str.replace('\\d','')\n",
    "#stopwords\n",
    "import nltk\n",
    "# nltk.download('wordnet')\n",
    "from nltk.corpus import stopwords\n",
    "sw = stopwords.words('english')\n",
    "df['text'] = df['text'].apply(lambda x: \" \".join(x for x in x.split() if x not in sw))\n",
    "#seyreklerin silinmesi\n",
    "sil = pd.Series(' '.join(df['text']).split()).value_counts()[-1000:]\n",
    "df['text'] = df['text'].apply(lambda x: \" \".join(x for x in x.split() if x not in sil))\n",
    "#lemmi\n",
    "from textblob import Word\n",
    "#nltk.download('wordnet')\n",
    "df['text'] = df['text'].apply(lambda x: \" \".join([Word(word).lemmatize() for word in x.split()])) "
   ]
  },
  {
   "cell_type": "markdown",
   "id": "bf456bf3",
   "metadata": {},
   "source": [
    "## Değişken Mühendisliği"
   ]
  },
  {
   "cell_type": "markdown",
   "id": "2234c78a",
   "metadata": {},
   "source": [
    "* Count Vectors\n",
    "* TF-IDF Vectors (words, characters, n-grams)\n",
    "* Word Embeddings\n",
    "\n",
    "TF(t) = (Bir t teriminin bir dökümanda gözlenme frekansı) / (dökümandaki toplam terim sayısı) \n",
    "\n",
    "IDF(t) = log_e(Toplam döküman sayısı / içinde t terimi olan belge sayısı)\n"
   ]
  },
  {
   "cell_type": "code",
   "execution_count": 12,
   "id": "6626ebf4",
   "metadata": {},
   "outputs": [
    {
     "data": {
      "text/html": [
       "<div>\n",
       "<style scoped>\n",
       "    .dataframe tbody tr th:only-of-type {\n",
       "        vertical-align: middle;\n",
       "    }\n",
       "\n",
       "    .dataframe tbody tr th {\n",
       "        vertical-align: top;\n",
       "    }\n",
       "\n",
       "    .dataframe thead th {\n",
       "        text-align: right;\n",
       "    }\n",
       "</style>\n",
       "<table border=\"1\" class=\"dataframe\">\n",
       "  <thead>\n",
       "    <tr style=\"text-align: right;\">\n",
       "      <th></th>\n",
       "      <th>text</th>\n",
       "      <th>label</th>\n",
       "    </tr>\n",
       "  </thead>\n",
       "  <tbody>\n",
       "    <tr>\n",
       "      <th>0</th>\n",
       "      <td>family mormon have never tried explain them t...</td>\n",
       "      <td>pozitif</td>\n",
       "    </tr>\n",
       "    <tr>\n",
       "      <th>1</th>\n",
       "      <td>buddhism has very much lot compatible with chr...</td>\n",
       "      <td>pozitif</td>\n",
       "    </tr>\n",
       "    <tr>\n",
       "      <th>2</th>\n",
       "      <td>seriously don say thing first all they won get...</td>\n",
       "      <td>negatif</td>\n",
       "    </tr>\n",
       "    <tr>\n",
       "      <th>3</th>\n",
       "      <td>what you have learned yours and only yours wha...</td>\n",
       "      <td>notr</td>\n",
       "    </tr>\n",
       "    <tr>\n",
       "      <th>4</th>\n",
       "      <td>for your own benefit you may want read living ...</td>\n",
       "      <td>pozitif</td>\n",
       "    </tr>\n",
       "  </tbody>\n",
       "</table>\n",
       "</div>"
      ],
      "text/plain": [
       "                                                text    label\n",
       "0   family mormon have never tried explain them t...  pozitif\n",
       "1  buddhism has very much lot compatible with chr...  pozitif\n",
       "2  seriously don say thing first all they won get...  negatif\n",
       "3  what you have learned yours and only yours wha...     notr\n",
       "4  for your own benefit you may want read living ...  pozitif"
      ]
     },
     "execution_count": 12,
     "metadata": {},
     "output_type": "execute_result"
    }
   ],
   "source": [
    "df.head()"
   ]
  },
  {
   "cell_type": "code",
   "execution_count": 13,
   "id": "b7ce1676",
   "metadata": {},
   "outputs": [
    {
     "data": {
      "text/plain": [
       "text      family mormon have never tried explain them t...\n",
       "label                                              pozitif\n",
       "Name: 0, dtype: object"
      ]
     },
     "execution_count": 13,
     "metadata": {},
     "output_type": "execute_result"
    }
   ],
   "source": [
    "df.iloc[0]"
   ]
  },
  {
   "cell_type": "markdown",
   "id": "a7f41047",
   "metadata": {},
   "source": [
    "## Test-Train"
   ]
  },
  {
   "cell_type": "code",
   "execution_count": 14,
   "id": "d7a3e3ee",
   "metadata": {},
   "outputs": [],
   "source": [
    "train_x, test_x, train_y, test_y = model_selection.train_test_split(df[\"text\"],\n",
    "                                                                   df[\"label\"], \n",
    "                                                                    random_state = 1)"
   ]
  },
  {
   "cell_type": "code",
   "execution_count": 15,
   "id": "d5616a34",
   "metadata": {},
   "outputs": [
    {
     "data": {
      "text/plain": [
       "28884       notr\n",
       "19390    pozitif\n",
       "31239       notr\n",
       "23373    pozitif\n",
       "35847       notr\n",
       "Name: label, dtype: object"
      ]
     },
     "execution_count": 15,
     "metadata": {},
     "output_type": "execute_result"
    }
   ],
   "source": [
    "train_y[0:5]"
   ]
  },
  {
   "cell_type": "code",
   "execution_count": 16,
   "id": "eec1628a",
   "metadata": {},
   "outputs": [],
   "source": [
    "encoder = preprocessing.LabelEncoder()"
   ]
  },
  {
   "cell_type": "code",
   "execution_count": 17,
   "id": "8733898f",
   "metadata": {},
   "outputs": [],
   "source": [
    "train_y = encoder.fit_transform(train_y)\n",
    "test_y = encoder.fit_transform(test_y)"
   ]
  },
  {
   "cell_type": "code",
   "execution_count": 18,
   "id": "b59d9250",
   "metadata": {},
   "outputs": [
    {
     "data": {
      "text/plain": [
       "array([1, 2, 1, 2, 1])"
      ]
     },
     "execution_count": 18,
     "metadata": {},
     "output_type": "execute_result"
    }
   ],
   "source": [
    "train_y[0:5]"
   ]
  },
  {
   "cell_type": "code",
   "execution_count": 19,
   "id": "dc291583",
   "metadata": {},
   "outputs": [
    {
     "data": {
      "text/plain": [
       "array([0, 0, 0, 2, 2])"
      ]
     },
     "execution_count": 19,
     "metadata": {},
     "output_type": "execute_result"
    }
   ],
   "source": [
    "test_y[0:5]"
   ]
  },
  {
   "cell_type": "markdown",
   "id": "1c8b7b90",
   "metadata": {},
   "source": [
    "### Count Vectors"
   ]
  },
  {
   "cell_type": "code",
   "execution_count": 20,
   "id": "f6c58667",
   "metadata": {},
   "outputs": [
    {
     "data": {
      "text/plain": [
       "CountVectorizer()"
      ]
     },
     "execution_count": 20,
     "metadata": {},
     "output_type": "execute_result"
    }
   ],
   "source": [
    "vectorizer = CountVectorizer()\n",
    "vectorizer.fit(train_x.astype('U').values)"
   ]
  },
  {
   "cell_type": "code",
   "execution_count": 21,
   "id": "9fbed9fc",
   "metadata": {},
   "outputs": [],
   "source": [
    "x_train_count = vectorizer.transform(train_x.astype('U').values)\n",
    "x_test_count = vectorizer.transform(test_x.astype('U').values)"
   ]
  },
  {
   "cell_type": "code",
   "execution_count": 22,
   "id": "1ae7d531",
   "metadata": {},
   "outputs": [
    {
     "data": {
      "text/plain": [
       "['000', '0001', '000rs', '001', '001445wd']"
      ]
     },
     "execution_count": 22,
     "metadata": {},
     "output_type": "execute_result"
    }
   ],
   "source": [
    "vectorizer.get_feature_names()[0:5]"
   ]
  },
  {
   "cell_type": "code",
   "execution_count": 23,
   "id": "9fb6108e",
   "metadata": {
    "scrolled": true
   },
   "outputs": [
    {
     "data": {
      "text/plain": [
       "array([[0, 0, 0, ..., 0, 0, 0],\n",
       "       [0, 0, 0, ..., 0, 0, 0],\n",
       "       [0, 0, 0, ..., 0, 0, 0],\n",
       "       ...,\n",
       "       [0, 0, 0, ..., 0, 0, 0],\n",
       "       [0, 0, 0, ..., 0, 0, 0],\n",
       "       [0, 0, 0, ..., 0, 0, 0]], dtype=int64)"
      ]
     },
     "execution_count": 23,
     "metadata": {},
     "output_type": "execute_result"
    }
   ],
   "source": [
    "x_train_count.toarray()"
   ]
  },
  {
   "cell_type": "markdown",
   "id": "a69df932",
   "metadata": {},
   "source": [
    "### TF-IDF"
   ]
  },
  {
   "cell_type": "code",
   "execution_count": 24,
   "id": "18d5b90b",
   "metadata": {},
   "outputs": [],
   "source": [
    "#wordlevel"
   ]
  },
  {
   "cell_type": "code",
   "execution_count": 25,
   "id": "1938a7ee",
   "metadata": {},
   "outputs": [
    {
     "data": {
      "text/plain": [
       "TfidfVectorizer()"
      ]
     },
     "execution_count": 25,
     "metadata": {},
     "output_type": "execute_result"
    }
   ],
   "source": [
    "tf_idf_word_vectorizer = TfidfVectorizer()\n",
    "tf_idf_word_vectorizer.fit(train_x.astype('U').values)"
   ]
  },
  {
   "cell_type": "code",
   "execution_count": 26,
   "id": "c3b24afb",
   "metadata": {},
   "outputs": [],
   "source": [
    "x_train_tf_idf_word = tf_idf_word_vectorizer.transform(train_x.astype('U').values)\n",
    "x_test_tf_idf_word = tf_idf_word_vectorizer.transform(test_x.astype('U').values)"
   ]
  },
  {
   "cell_type": "code",
   "execution_count": 27,
   "id": "a4c949ba",
   "metadata": {},
   "outputs": [
    {
     "data": {
      "text/plain": [
       "['000', '0001', '000rs', '001', '001445wd']"
      ]
     },
     "execution_count": 27,
     "metadata": {},
     "output_type": "execute_result"
    }
   ],
   "source": [
    "tf_idf_word_vectorizer.get_feature_names()[0:5]"
   ]
  },
  {
   "cell_type": "code",
   "execution_count": 28,
   "id": "d8560bcb",
   "metadata": {},
   "outputs": [
    {
     "data": {
      "text/plain": [
       "array([[0., 0., 0., ..., 0., 0., 0.],\n",
       "       [0., 0., 0., ..., 0., 0., 0.],\n",
       "       [0., 0., 0., ..., 0., 0., 0.],\n",
       "       ...,\n",
       "       [0., 0., 0., ..., 0., 0., 0.],\n",
       "       [0., 0., 0., ..., 0., 0., 0.],\n",
       "       [0., 0., 0., ..., 0., 0., 0.]])"
      ]
     },
     "execution_count": 28,
     "metadata": {},
     "output_type": "execute_result"
    }
   ],
   "source": [
    "x_train_tf_idf_word.toarray()"
   ]
  },
  {
   "cell_type": "code",
   "execution_count": 29,
   "id": "1e111e48",
   "metadata": {},
   "outputs": [],
   "source": [
    "# ngram level tf-idf"
   ]
  },
  {
   "cell_type": "code",
   "execution_count": 30,
   "id": "906276ed",
   "metadata": {},
   "outputs": [
    {
     "data": {
      "text/plain": [
       "TfidfVectorizer(ngram_range=(2, 3))"
      ]
     },
     "execution_count": 30,
     "metadata": {},
     "output_type": "execute_result"
    }
   ],
   "source": [
    "tf_idf_ngram_vectorizer = TfidfVectorizer(ngram_range = (2,3))\n",
    "tf_idf_ngram_vectorizer.fit(train_x.astype('U').values)"
   ]
  },
  {
   "cell_type": "code",
   "execution_count": 31,
   "id": "6315f2b4",
   "metadata": {},
   "outputs": [],
   "source": [
    "x_train_tf_idf_ngram = tf_idf_ngram_vectorizer.transform(train_x.astype('U').values)\n",
    "x_test_tf_idf_ngram = tf_idf_ngram_vectorizer.transform(test_x.astype('U').values)"
   ]
  },
  {
   "cell_type": "code",
   "execution_count": 32,
   "id": "f536124c",
   "metadata": {},
   "outputs": [],
   "source": [
    "# characters level tf-idf"
   ]
  },
  {
   "cell_type": "code",
   "execution_count": 33,
   "id": "19c2b7ce",
   "metadata": {},
   "outputs": [
    {
     "data": {
      "text/plain": [
       "TfidfVectorizer(analyzer='char', ngram_range=(2, 3))"
      ]
     },
     "execution_count": 33,
     "metadata": {},
     "output_type": "execute_result"
    }
   ],
   "source": [
    "tf_idf_chars_vectorizer = TfidfVectorizer(analyzer = \"char\", ngram_range = (2,3))\n",
    "tf_idf_chars_vectorizer.fit(train_x.astype('U').values)"
   ]
  },
  {
   "cell_type": "code",
   "execution_count": 34,
   "id": "f91bd327",
   "metadata": {},
   "outputs": [],
   "source": [
    "x_train_tf_idf_chars = tf_idf_chars_vectorizer.transform(train_x.astype('U').values)\n",
    "x_test_tf_idf_chars = tf_idf_chars_vectorizer.transform(test_x.astype('U').values)"
   ]
  },
  {
   "cell_type": "markdown",
   "id": "628dcc47",
   "metadata": {},
   "source": [
    "# Makine Öğrenmesi ile Sentiment Sınıflandırması"
   ]
  },
  {
   "cell_type": "markdown",
   "id": "fbae3fb7",
   "metadata": {},
   "source": [
    "## Lojistik Regresyon"
   ]
  },
  {
   "cell_type": "code",
   "execution_count": 59,
   "id": "a3680d83",
   "metadata": {},
   "outputs": [
    {
     "name": "stdout",
     "output_type": "stream",
     "text": [
      "Count Vectors Doğruluk Oranı: 0.8256191136947212\n"
     ]
    }
   ],
   "source": [
    "loj = linear_model.LogisticRegression()\n",
    "loj_model = loj.fit(x_train_count, train_y)\n",
    "accuracy = model_selection.cross_val_score(loj_model, \n",
    "                                           x_test_count, \n",
    "                                           test_y, \n",
    "                                           cv = 10).mean()\n",
    "\n",
    "print(\"Count Vectors Doğruluk Oranı:\", accuracy)"
   ]
  },
  {
   "cell_type": "code",
   "execution_count": 36,
   "id": "79e02443",
   "metadata": {},
   "outputs": [
    {
     "name": "stdout",
     "output_type": "stream",
     "text": [
      "Word-Level TF-IDF Doğruluk Oranı: 0.7747222516745573\n"
     ]
    }
   ],
   "source": [
    "loj = linear_model.LogisticRegression()\n",
    "loj_model = loj.fit(x_train_tf_idf_word,train_y)\n",
    "accuracy = model_selection.cross_val_score(loj_model, \n",
    "                                           x_test_tf_idf_word, \n",
    "                                           test_y, \n",
    "                                           cv = 10).mean()\n",
    "\n",
    "print(\"Word-Level TF-IDF Doğruluk Oranı:\", accuracy)"
   ]
  },
  {
   "cell_type": "code",
   "execution_count": 37,
   "id": "8e375f84",
   "metadata": {},
   "outputs": [
    {
     "name": "stdout",
     "output_type": "stream",
     "text": [
      "N-GRAM TF-IDF Doğruluk Oranı: 0.575217242984838\n"
     ]
    }
   ],
   "source": [
    "loj = linear_model.LogisticRegression()\n",
    "loj_model = loj.fit(x_train_tf_idf_ngram,train_y)\n",
    "accuracy = model_selection.cross_val_score(loj_model, \n",
    "                                           x_test_tf_idf_ngram, \n",
    "                                           test_y, \n",
    "                                           cv = 10).mean()\n",
    "\n",
    "print(\"N-GRAM TF-IDF Doğruluk Oranı:\", accuracy)"
   ]
  },
  {
   "cell_type": "code",
   "execution_count": 38,
   "id": "8acefc04",
   "metadata": {},
   "outputs": [
    {
     "name": "stdout",
     "output_type": "stream",
     "text": [
      "CHARLEVEL Doğruluk Oranı: 0.7194216380927794\n"
     ]
    }
   ],
   "source": [
    "loj = linear_model.LogisticRegression()\n",
    "loj_model = loj.fit(x_train_tf_idf_chars,train_y)\n",
    "accuracy = model_selection.cross_val_score(loj_model, \n",
    "                                           x_test_tf_idf_chars, \n",
    "                                           test_y, \n",
    "                                           cv = 10).mean()\n",
    "\n",
    "print(\"CHARLEVEL Doğruluk Oranı:\", accuracy)"
   ]
  },
  {
   "cell_type": "markdown",
   "id": "3c61d28b",
   "metadata": {},
   "source": [
    "## Naive Bayes"
   ]
  },
  {
   "cell_type": "code",
   "execution_count": 66,
   "id": "b9597a1f",
   "metadata": {},
   "outputs": [
    {
     "name": "stdout",
     "output_type": "stream",
     "text": [
      "Count Vectors Doğruluk Oranı: 0.5414988267726336\n"
     ]
    }
   ],
   "source": [
    "nb = naive_bayes.MultinomialNB()\n",
    "nb_model = nb.fit(x_train_count,train_y)\n",
    "accuracy = model_selection.cross_val_score(nb_model, \n",
    "                                           x_test_count, \n",
    "                                           test_y, \n",
    "                                           cv = 10).mean()\n",
    "\n",
    "print(\"Count Vectors Doğruluk Oranı:\", accuracy)"
   ]
  },
  {
   "cell_type": "code",
   "execution_count": 54,
   "id": "f31fc33a",
   "metadata": {},
   "outputs": [
    {
     "name": "stdout",
     "output_type": "stream",
     "text": [
      "Word-Level TF-IDF Doğruluk Oranı: 0.4989798223332703\n"
     ]
    }
   ],
   "source": [
    "nb = naive_bayes.MultinomialNB()\n",
    "nb_model = nb.fit(x_train_tf_idf_word,train_y)\n",
    "accuracy = model_selection.cross_val_score(nb_model, \n",
    "                                           x_test_tf_idf_word, \n",
    "                                           test_y, \n",
    "                                           cv = 10).mean()\n",
    "\n",
    "print(\"Word-Level TF-IDF Doğruluk Oranı:\", accuracy)"
   ]
  },
  {
   "cell_type": "code",
   "execution_count": 55,
   "id": "0aaafe43",
   "metadata": {},
   "outputs": [
    {
     "name": "stdout",
     "output_type": "stream",
     "text": [
      "N-GRAM TF-IDF Doğruluk Oranı: 0.45334577246303986\n"
     ]
    }
   ],
   "source": [
    "nb = naive_bayes.MultinomialNB()\n",
    "nb_model = nb.fit(x_train_tf_idf_ngram,train_y)\n",
    "accuracy = model_selection.cross_val_score(nb_model, \n",
    "                                           x_test_tf_idf_ngram, \n",
    "                                           test_y, \n",
    "                                           cv = 10).mean()\n",
    "\n",
    "print(\"N-GRAM TF-IDF Doğruluk Oranı:\", accuracy)"
   ]
  },
  {
   "cell_type": "code",
   "execution_count": 56,
   "id": "4179050b",
   "metadata": {},
   "outputs": [
    {
     "name": "stdout",
     "output_type": "stream",
     "text": [
      "CHARLEVEL Doğruluk Oranı: 0.4760033514196282\n"
     ]
    }
   ],
   "source": [
    "nb = naive_bayes.MultinomialNB()\n",
    "nb_model = nb.fit(x_train_tf_idf_chars,train_y)\n",
    "accuracy = model_selection.cross_val_score(nb_model, \n",
    "                                           x_test_tf_idf_chars, \n",
    "                                           test_y, \n",
    "                                           cv = 10).mean()\n",
    "\n",
    "print(\"CHARLEVEL Doğruluk Oranı:\", accuracy)"
   ]
  },
  {
   "cell_type": "markdown",
   "id": "acd6aafd",
   "metadata": {},
   "source": [
    "## Random Forests"
   ]
  },
  {
   "cell_type": "code",
   "execution_count": 112,
   "id": "3b6db2c2",
   "metadata": {
    "scrolled": false
   },
   "outputs": [
    {
     "name": "stdout",
     "output_type": "stream",
     "text": [
      "Count Vectors Doğruluk Oranı: 0.7400402446951222\n"
     ]
    }
   ],
   "source": [
    "rf = ensemble.RandomForestClassifier()\n",
    "rf_model = rf.fit(x_train_count,train_y)\n",
    "accuracy = model_selection.cross_val_score(rf_model, \n",
    "                                           x_test_count, \n",
    "                                           test_y, \n",
    "                                           cv = 10).mean()\n",
    "\n",
    "print(\"Count Vectors Doğruluk Oranı:\", accuracy)"
   ]
  },
  {
   "cell_type": "code",
   "execution_count": 103,
   "id": "94297b99",
   "metadata": {},
   "outputs": [
    {
     "name": "stdout",
     "output_type": "stream",
     "text": [
      "Word-Level TF-IDF Doğruluk Oranı: 0.7333808540357639\n"
     ]
    }
   ],
   "source": [
    "rf = ensemble.RandomForestClassifier()\n",
    "rf_model = rf.fit(x_train_tf_idf_word,train_y)\n",
    "accuracy = model_selection.cross_val_score(rf_model, \n",
    "                                           x_test_tf_idf_word, \n",
    "                                           test_y, \n",
    "                                           cv = 10).mean()\n",
    "\n",
    "print(\"Word-Level TF-IDF Doğruluk Oranı:\", accuracy)"
   ]
  },
  {
   "cell_type": "code",
   "execution_count": 104,
   "id": "2cdb4130",
   "metadata": {},
   "outputs": [
    {
     "name": "stdout",
     "output_type": "stream",
     "text": [
      "N-GRAM TF-IDF Doğruluk Oranı: 0.575217242984838\n"
     ]
    }
   ],
   "source": [
    "rf = ensemble.RandomForestClassifier()\n",
    "rf_model = loj.fit(x_train_tf_idf_ngram,train_y)\n",
    "accuracy = model_selection.cross_val_score(rf_model, \n",
    "                                           x_test_tf_idf_ngram, \n",
    "                                           test_y, \n",
    "                                           cv = 10).mean()\n",
    "\n",
    "print(\"N-GRAM TF-IDF Doğruluk Oranı:\", accuracy)"
   ]
  },
  {
   "cell_type": "code",
   "execution_count": 105,
   "id": "61c1a808",
   "metadata": {},
   "outputs": [
    {
     "name": "stdout",
     "output_type": "stream",
     "text": [
      "CHARLEVEL Doğruluk Oranı: 0.7194216380927794\n"
     ]
    }
   ],
   "source": [
    "rf = ensemble.RandomForestClassifier()\n",
    "rf_model = loj.fit(x_train_tf_idf_chars,train_y)\n",
    "accuracy = model_selection.cross_val_score(rf_model, \n",
    "                                           x_test_tf_idf_chars, \n",
    "                                           test_y, \n",
    "                                           cv = 10).mean()\n",
    "\n",
    "print(\"CHARLEVEL Doğruluk Oranı:\", accuracy)"
   ]
  },
  {
   "cell_type": "markdown",
   "id": "86f525aa",
   "metadata": {},
   "source": [
    "## XGBoost"
   ]
  },
  {
   "cell_type": "code",
   "execution_count": 136,
   "id": "7b3d5de9",
   "metadata": {},
   "outputs": [
    {
     "name": "stdout",
     "output_type": "stream",
     "text": [
      "[01:37:05] WARNING: C:/Users/Administrator/workspace/xgboost-win64_release_1.5.1/src/learner.cc:1115: Starting in XGBoost 1.3.0, the default evaluation metric used with the objective 'multi:softprob' was changed from 'merror' to 'mlogloss'. Explicitly set eval_metric if you'd like to restore the old behavior.\n",
      "[01:37:22] WARNING: C:/Users/Administrator/workspace/xgboost-win64_release_1.5.1/src/learner.cc:1115: Starting in XGBoost 1.3.0, the default evaluation metric used with the objective 'multi:softprob' was changed from 'merror' to 'mlogloss'. Explicitly set eval_metric if you'd like to restore the old behavior.\n",
      "[01:37:34] WARNING: C:/Users/Administrator/workspace/xgboost-win64_release_1.5.1/src/learner.cc:1115: Starting in XGBoost 1.3.0, the default evaluation metric used with the objective 'multi:softprob' was changed from 'merror' to 'mlogloss'. Explicitly set eval_metric if you'd like to restore the old behavior.\n",
      "[01:37:45] WARNING: C:/Users/Administrator/workspace/xgboost-win64_release_1.5.1/src/learner.cc:1115: Starting in XGBoost 1.3.0, the default evaluation metric used with the objective 'multi:softprob' was changed from 'merror' to 'mlogloss'. Explicitly set eval_metric if you'd like to restore the old behavior.\n",
      "[01:37:56] WARNING: C:/Users/Administrator/workspace/xgboost-win64_release_1.5.1/src/learner.cc:1115: Starting in XGBoost 1.3.0, the default evaluation metric used with the objective 'multi:softprob' was changed from 'merror' to 'mlogloss'. Explicitly set eval_metric if you'd like to restore the old behavior.\n",
      "[01:38:06] WARNING: C:/Users/Administrator/workspace/xgboost-win64_release_1.5.1/src/learner.cc:1115: Starting in XGBoost 1.3.0, the default evaluation metric used with the objective 'multi:softprob' was changed from 'merror' to 'mlogloss'. Explicitly set eval_metric if you'd like to restore the old behavior.\n",
      "[01:38:16] WARNING: C:/Users/Administrator/workspace/xgboost-win64_release_1.5.1/src/learner.cc:1115: Starting in XGBoost 1.3.0, the default evaluation metric used with the objective 'multi:softprob' was changed from 'merror' to 'mlogloss'. Explicitly set eval_metric if you'd like to restore the old behavior.\n",
      "[01:38:31] WARNING: C:/Users/Administrator/workspace/xgboost-win64_release_1.5.1/src/learner.cc:1115: Starting in XGBoost 1.3.0, the default evaluation metric used with the objective 'multi:softprob' was changed from 'merror' to 'mlogloss'. Explicitly set eval_metric if you'd like to restore the old behavior.\n",
      "[01:38:44] WARNING: C:/Users/Administrator/workspace/xgboost-win64_release_1.5.1/src/learner.cc:1115: Starting in XGBoost 1.3.0, the default evaluation metric used with the objective 'multi:softprob' was changed from 'merror' to 'mlogloss'. Explicitly set eval_metric if you'd like to restore the old behavior.\n",
      "[01:38:58] WARNING: C:/Users/Administrator/workspace/xgboost-win64_release_1.5.1/src/learner.cc:1115: Starting in XGBoost 1.3.0, the default evaluation metric used with the objective 'multi:softprob' was changed from 'merror' to 'mlogloss'. Explicitly set eval_metric if you'd like to restore the old behavior.\n",
      "[01:39:09] WARNING: C:/Users/Administrator/workspace/xgboost-win64_release_1.5.1/src/learner.cc:1115: Starting in XGBoost 1.3.0, the default evaluation metric used with the objective 'multi:softprob' was changed from 'merror' to 'mlogloss'. Explicitly set eval_metric if you'd like to restore the old behavior.\n",
      "Count Vectors Doğruluk Oranı: 0.8185312299756135\n"
     ]
    }
   ],
   "source": [
    "xgb = xgboost.XGBClassifier()\n",
    "xgb_model = xgb.fit(x_train_count,train_y)\n",
    "accuracy = model_selection.cross_val_score(xgb_model, \n",
    "                                           x_test_count, \n",
    "                                           test_y, \n",
    "                                           cv = 10).mean()\n",
    "\n",
    "print(\"Count Vectors Doğruluk Oranı:\", accuracy)"
   ]
  },
  {
   "cell_type": "code",
   "execution_count": 107,
   "id": "4bef20d9",
   "metadata": {},
   "outputs": [
    {
     "name": "stdout",
     "output_type": "stream",
     "text": [
      "[23:12:49] WARNING: C:/Users/Administrator/workspace/xgboost-win64_release_1.5.1/src/learner.cc:1115: Starting in XGBoost 1.3.0, the default evaluation metric used with the objective 'multi:softprob' was changed from 'merror' to 'mlogloss'. Explicitly set eval_metric if you'd like to restore the old behavior.\n",
      "[23:13:47] WARNING: C:/Users/Administrator/workspace/xgboost-win64_release_1.5.1/src/learner.cc:1115: Starting in XGBoost 1.3.0, the default evaluation metric used with the objective 'multi:softprob' was changed from 'merror' to 'mlogloss'. Explicitly set eval_metric if you'd like to restore the old behavior.\n",
      "[23:14:06] WARNING: C:/Users/Administrator/workspace/xgboost-win64_release_1.5.1/src/learner.cc:1115: Starting in XGBoost 1.3.0, the default evaluation metric used with the objective 'multi:softprob' was changed from 'merror' to 'mlogloss'. Explicitly set eval_metric if you'd like to restore the old behavior.\n",
      "[23:14:26] WARNING: C:/Users/Administrator/workspace/xgboost-win64_release_1.5.1/src/learner.cc:1115: Starting in XGBoost 1.3.0, the default evaluation metric used with the objective 'multi:softprob' was changed from 'merror' to 'mlogloss'. Explicitly set eval_metric if you'd like to restore the old behavior.\n",
      "[23:14:46] WARNING: C:/Users/Administrator/workspace/xgboost-win64_release_1.5.1/src/learner.cc:1115: Starting in XGBoost 1.3.0, the default evaluation metric used with the objective 'multi:softprob' was changed from 'merror' to 'mlogloss'. Explicitly set eval_metric if you'd like to restore the old behavior.\n",
      "[23:15:06] WARNING: C:/Users/Administrator/workspace/xgboost-win64_release_1.5.1/src/learner.cc:1115: Starting in XGBoost 1.3.0, the default evaluation metric used with the objective 'multi:softprob' was changed from 'merror' to 'mlogloss'. Explicitly set eval_metric if you'd like to restore the old behavior.\n",
      "[23:15:26] WARNING: C:/Users/Administrator/workspace/xgboost-win64_release_1.5.1/src/learner.cc:1115: Starting in XGBoost 1.3.0, the default evaluation metric used with the objective 'multi:softprob' was changed from 'merror' to 'mlogloss'. Explicitly set eval_metric if you'd like to restore the old behavior.\n",
      "[23:15:45] WARNING: C:/Users/Administrator/workspace/xgboost-win64_release_1.5.1/src/learner.cc:1115: Starting in XGBoost 1.3.0, the default evaluation metric used with the objective 'multi:softprob' was changed from 'merror' to 'mlogloss'. Explicitly set eval_metric if you'd like to restore the old behavior.\n",
      "[23:16:05] WARNING: C:/Users/Administrator/workspace/xgboost-win64_release_1.5.1/src/learner.cc:1115: Starting in XGBoost 1.3.0, the default evaluation metric used with the objective 'multi:softprob' was changed from 'merror' to 'mlogloss'. Explicitly set eval_metric if you'd like to restore the old behavior.\n",
      "[23:16:24] WARNING: C:/Users/Administrator/workspace/xgboost-win64_release_1.5.1/src/learner.cc:1115: Starting in XGBoost 1.3.0, the default evaluation metric used with the objective 'multi:softprob' was changed from 'merror' to 'mlogloss'. Explicitly set eval_metric if you'd like to restore the old behavior.\n",
      "[23:16:44] WARNING: C:/Users/Administrator/workspace/xgboost-win64_release_1.5.1/src/learner.cc:1115: Starting in XGBoost 1.3.0, the default evaluation metric used with the objective 'multi:softprob' was changed from 'merror' to 'mlogloss'. Explicitly set eval_metric if you'd like to restore the old behavior.\n",
      "Word-Level TF-IDF Doğruluk Oranı: 0.813272912508125\n"
     ]
    }
   ],
   "source": [
    "xgb = xgboost.XGBClassifier()\n",
    "xgb_model = xgb.fit(x_train_tf_idf_word,train_y)\n",
    "accuracy = model_selection.cross_val_score(xgb_model, \n",
    "                                           x_test_tf_idf_word, \n",
    "                                           test_y, \n",
    "                                           cv = 10).mean()\n",
    "\n",
    "print(\"Word-Level TF-IDF Doğruluk Oranı:\", accuracy)"
   ]
  },
  {
   "cell_type": "code",
   "execution_count": 108,
   "id": "283c337c",
   "metadata": {},
   "outputs": [
    {
     "name": "stdout",
     "output_type": "stream",
     "text": [
      "[23:17:05] WARNING: C:/Users/Administrator/workspace/xgboost-win64_release_1.5.1/src/learner.cc:1115: Starting in XGBoost 1.3.0, the default evaluation metric used with the objective 'multi:softprob' was changed from 'merror' to 'mlogloss'. Explicitly set eval_metric if you'd like to restore the old behavior.\n",
      "[23:19:12] WARNING: C:/Users/Administrator/workspace/xgboost-win64_release_1.5.1/src/learner.cc:1115: Starting in XGBoost 1.3.0, the default evaluation metric used with the objective 'multi:softprob' was changed from 'merror' to 'mlogloss'. Explicitly set eval_metric if you'd like to restore the old behavior.\n",
      "[23:21:11] WARNING: C:/Users/Administrator/workspace/xgboost-win64_release_1.5.1/src/learner.cc:1115: Starting in XGBoost 1.3.0, the default evaluation metric used with the objective 'multi:softprob' was changed from 'merror' to 'mlogloss'. Explicitly set eval_metric if you'd like to restore the old behavior.\n",
      "[23:23:12] WARNING: C:/Users/Administrator/workspace/xgboost-win64_release_1.5.1/src/learner.cc:1115: Starting in XGBoost 1.3.0, the default evaluation metric used with the objective 'multi:softprob' was changed from 'merror' to 'mlogloss'. Explicitly set eval_metric if you'd like to restore the old behavior.\n",
      "[23:25:11] WARNING: C:/Users/Administrator/workspace/xgboost-win64_release_1.5.1/src/learner.cc:1115: Starting in XGBoost 1.3.0, the default evaluation metric used with the objective 'multi:softprob' was changed from 'merror' to 'mlogloss'. Explicitly set eval_metric if you'd like to restore the old behavior.\n",
      "[23:27:11] WARNING: C:/Users/Administrator/workspace/xgboost-win64_release_1.5.1/src/learner.cc:1115: Starting in XGBoost 1.3.0, the default evaluation metric used with the objective 'multi:softprob' was changed from 'merror' to 'mlogloss'. Explicitly set eval_metric if you'd like to restore the old behavior.\n",
      "[23:29:10] WARNING: C:/Users/Administrator/workspace/xgboost-win64_release_1.5.1/src/learner.cc:1115: Starting in XGBoost 1.3.0, the default evaluation metric used with the objective 'multi:softprob' was changed from 'merror' to 'mlogloss'. Explicitly set eval_metric if you'd like to restore the old behavior.\n",
      "[23:31:13] WARNING: C:/Users/Administrator/workspace/xgboost-win64_release_1.5.1/src/learner.cc:1115: Starting in XGBoost 1.3.0, the default evaluation metric used with the objective 'multi:softprob' was changed from 'merror' to 'mlogloss'. Explicitly set eval_metric if you'd like to restore the old behavior.\n",
      "[23:33:13] WARNING: C:/Users/Administrator/workspace/xgboost-win64_release_1.5.1/src/learner.cc:1115: Starting in XGBoost 1.3.0, the default evaluation metric used with the objective 'multi:softprob' was changed from 'merror' to 'mlogloss'. Explicitly set eval_metric if you'd like to restore the old behavior.\n",
      "[23:35:11] WARNING: C:/Users/Administrator/workspace/xgboost-win64_release_1.5.1/src/learner.cc:1115: Starting in XGBoost 1.3.0, the default evaluation metric used with the objective 'multi:softprob' was changed from 'merror' to 'mlogloss'. Explicitly set eval_metric if you'd like to restore the old behavior.\n",
      "[23:37:10] WARNING: C:/Users/Administrator/workspace/xgboost-win64_release_1.5.1/src/learner.cc:1115: Starting in XGBoost 1.3.0, the default evaluation metric used with the objective 'multi:softprob' was changed from 'merror' to 'mlogloss'. Explicitly set eval_metric if you'd like to restore the old behavior.\n",
      "N-GRAM TF-IDF Doğruluk Oranı: 0.575322695149892\n"
     ]
    }
   ],
   "source": [
    "xgb = xgboost.XGBClassifier()\n",
    "xgb_model = xgb.fit(x_train_tf_idf_ngram,train_y)\n",
    "accuracy = model_selection.cross_val_score(xgb_model, \n",
    "                                           x_test_tf_idf_ngram, \n",
    "                                           test_y, \n",
    "                                           cv = 10).mean()\n",
    "\n",
    "print(\"N-GRAM TF-IDF Doğruluk Oranı:\", accuracy)"
   ]
  },
  {
   "cell_type": "code",
   "execution_count": 109,
   "id": "414e9ef3",
   "metadata": {},
   "outputs": [
    {
     "name": "stdout",
     "output_type": "stream",
     "text": [
      "[23:39:14] WARNING: C:/Users/Administrator/workspace/xgboost-win64_release_1.5.1/src/learner.cc:1115: Starting in XGBoost 1.3.0, the default evaluation metric used with the objective 'multi:softprob' was changed from 'merror' to 'mlogloss'. Explicitly set eval_metric if you'd like to restore the old behavior.\n",
      "[23:47:13] WARNING: C:/Users/Administrator/workspace/xgboost-win64_release_1.5.1/src/learner.cc:1115: Starting in XGBoost 1.3.0, the default evaluation metric used with the objective 'multi:softprob' was changed from 'merror' to 'mlogloss'. Explicitly set eval_metric if you'd like to restore the old behavior.\n",
      "[23:49:35] WARNING: C:/Users/Administrator/workspace/xgboost-win64_release_1.5.1/src/learner.cc:1115: Starting in XGBoost 1.3.0, the default evaluation metric used with the objective 'multi:softprob' was changed from 'merror' to 'mlogloss'. Explicitly set eval_metric if you'd like to restore the old behavior.\n",
      "[23:51:58] WARNING: C:/Users/Administrator/workspace/xgboost-win64_release_1.5.1/src/learner.cc:1115: Starting in XGBoost 1.3.0, the default evaluation metric used with the objective 'multi:softprob' was changed from 'merror' to 'mlogloss'. Explicitly set eval_metric if you'd like to restore the old behavior.\n",
      "[23:54:20] WARNING: C:/Users/Administrator/workspace/xgboost-win64_release_1.5.1/src/learner.cc:1115: Starting in XGBoost 1.3.0, the default evaluation metric used with the objective 'multi:softprob' was changed from 'merror' to 'mlogloss'. Explicitly set eval_metric if you'd like to restore the old behavior.\n",
      "[23:56:43] WARNING: C:/Users/Administrator/workspace/xgboost-win64_release_1.5.1/src/learner.cc:1115: Starting in XGBoost 1.3.0, the default evaluation metric used with the objective 'multi:softprob' was changed from 'merror' to 'mlogloss'. Explicitly set eval_metric if you'd like to restore the old behavior.\n",
      "[23:59:06] WARNING: C:/Users/Administrator/workspace/xgboost-win64_release_1.5.1/src/learner.cc:1115: Starting in XGBoost 1.3.0, the default evaluation metric used with the objective 'multi:softprob' was changed from 'merror' to 'mlogloss'. Explicitly set eval_metric if you'd like to restore the old behavior.\n",
      "[00:01:34] WARNING: C:/Users/Administrator/workspace/xgboost-win64_release_1.5.1/src/learner.cc:1115: Starting in XGBoost 1.3.0, the default evaluation metric used with the objective 'multi:softprob' was changed from 'merror' to 'mlogloss'. Explicitly set eval_metric if you'd like to restore the old behavior.\n",
      "[00:03:57] WARNING: C:/Users/Administrator/workspace/xgboost-win64_release_1.5.1/src/learner.cc:1115: Starting in XGBoost 1.3.0, the default evaluation metric used with the objective 'multi:softprob' was changed from 'merror' to 'mlogloss'. Explicitly set eval_metric if you'd like to restore the old behavior.\n",
      "[00:06:20] WARNING: C:/Users/Administrator/workspace/xgboost-win64_release_1.5.1/src/learner.cc:1115: Starting in XGBoost 1.3.0, the default evaluation metric used with the objective 'multi:softprob' was changed from 'merror' to 'mlogloss'. Explicitly set eval_metric if you'd like to restore the old behavior.\n",
      "[00:08:43] WARNING: C:/Users/Administrator/workspace/xgboost-win64_release_1.5.1/src/learner.cc:1115: Starting in XGBoost 1.3.0, the default evaluation metric used with the objective 'multi:softprob' was changed from 'merror' to 'mlogloss'. Explicitly set eval_metric if you'd like to restore the old behavior.\n",
      "CHARLEVEL Doğruluk Oranı: 0.7393939324091958\n"
     ]
    }
   ],
   "source": [
    "xgb = xgboost.XGBClassifier()\n",
    "xgb_model = xgb.fit(x_train_tf_idf_chars,train_y)\n",
    "accuracy = model_selection.cross_val_score(xgb_model, \n",
    "                                           x_test_tf_idf_chars, \n",
    "                                           test_y, \n",
    "                                           cv = 10).mean()\n",
    "\n",
    "print(\"CHARLEVEL Doğruluk Oranı:\", accuracy)"
   ]
  },
  {
   "cell_type": "code",
   "execution_count": 60,
   "id": "83192f00",
   "metadata": {
    "scrolled": false
   },
   "outputs": [
    {
     "data": {
      "text/plain": [
       "LogisticRegression()"
      ]
     },
     "execution_count": 60,
     "metadata": {},
     "output_type": "execute_result"
    }
   ],
   "source": [
    "loj_model"
   ]
  },
  {
   "cell_type": "code",
   "execution_count": 144,
   "id": "9fa539be",
   "metadata": {},
   "outputs": [],
   "source": [
    "# yeni_yorum = pd.Series(\"this film is very nice and good i like it\")\n",
    "\n",
    "yeni_yorum = pd.Series(\"no not good look at that shit very bad fuck\")\n",
    "\n",
    "# yeni_yorum = pd.Series(\"what you have learned yours and only yours\")"
   ]
  },
  {
   "cell_type": "code",
   "execution_count": 145,
   "id": "6b52752f",
   "metadata": {},
   "outputs": [],
   "source": [
    "v = CountVectorizer()\n",
    "v.fit(train_x.astype('U').values)\n",
    "yeni_yorum = v.transform(yeni_yorum)"
   ]
  },
  {
   "cell_type": "code",
   "execution_count": 132,
   "id": "e0f12dfe",
   "metadata": {
    "scrolled": true
   },
   "outputs": [
    {
     "ename": "ValueError",
     "evalue": "X has 45592 features, but LogisticRegression is expecting 30044 features as input.",
     "output_type": "error",
     "traceback": [
      "\u001b[1;31m---------------------------------------------------------------------------\u001b[0m",
      "\u001b[1;31mValueError\u001b[0m                                Traceback (most recent call last)",
      "\u001b[1;32m~\\AppData\\Local\\Temp/ipykernel_15016/1737397613.py\u001b[0m in \u001b[0;36m<module>\u001b[1;34m\u001b[0m\n\u001b[1;32m----> 1\u001b[1;33m \u001b[0mloj_model\u001b[0m\u001b[1;33m.\u001b[0m\u001b[0mpredict\u001b[0m\u001b[1;33m(\u001b[0m\u001b[0myeni_yorum\u001b[0m\u001b[1;33m)\u001b[0m\u001b[1;33m\u001b[0m\u001b[1;33m\u001b[0m\u001b[0m\n\u001b[0m",
      "\u001b[1;32mc:\\users\\husey\\appdata\\local\\programs\\python\\python38\\lib\\site-packages\\sklearn\\linear_model\\_base.py\u001b[0m in \u001b[0;36mpredict\u001b[1;34m(self, X)\u001b[0m\n\u001b[0;32m    423\u001b[0m             \u001b[0mPredicted\u001b[0m \u001b[1;32mclass\u001b[0m \u001b[0mlabel\u001b[0m \u001b[0mper\u001b[0m \u001b[0msample\u001b[0m\u001b[1;33m.\u001b[0m\u001b[1;33m\u001b[0m\u001b[1;33m\u001b[0m\u001b[0m\n\u001b[0;32m    424\u001b[0m         \"\"\"\n\u001b[1;32m--> 425\u001b[1;33m         \u001b[0mscores\u001b[0m \u001b[1;33m=\u001b[0m \u001b[0mself\u001b[0m\u001b[1;33m.\u001b[0m\u001b[0mdecision_function\u001b[0m\u001b[1;33m(\u001b[0m\u001b[0mX\u001b[0m\u001b[1;33m)\u001b[0m\u001b[1;33m\u001b[0m\u001b[1;33m\u001b[0m\u001b[0m\n\u001b[0m\u001b[0;32m    426\u001b[0m         \u001b[1;32mif\u001b[0m \u001b[0mlen\u001b[0m\u001b[1;33m(\u001b[0m\u001b[0mscores\u001b[0m\u001b[1;33m.\u001b[0m\u001b[0mshape\u001b[0m\u001b[1;33m)\u001b[0m \u001b[1;33m==\u001b[0m \u001b[1;36m1\u001b[0m\u001b[1;33m:\u001b[0m\u001b[1;33m\u001b[0m\u001b[1;33m\u001b[0m\u001b[0m\n\u001b[0;32m    427\u001b[0m             \u001b[0mindices\u001b[0m \u001b[1;33m=\u001b[0m \u001b[1;33m(\u001b[0m\u001b[0mscores\u001b[0m \u001b[1;33m>\u001b[0m \u001b[1;36m0\u001b[0m\u001b[1;33m)\u001b[0m\u001b[1;33m.\u001b[0m\u001b[0mastype\u001b[0m\u001b[1;33m(\u001b[0m\u001b[0mint\u001b[0m\u001b[1;33m)\u001b[0m\u001b[1;33m\u001b[0m\u001b[1;33m\u001b[0m\u001b[0m\n",
      "\u001b[1;32mc:\\users\\husey\\appdata\\local\\programs\\python\\python38\\lib\\site-packages\\sklearn\\linear_model\\_base.py\u001b[0m in \u001b[0;36mdecision_function\u001b[1;34m(self, X)\u001b[0m\n\u001b[0;32m    405\u001b[0m         \u001b[0mcheck_is_fitted\u001b[0m\u001b[1;33m(\u001b[0m\u001b[0mself\u001b[0m\u001b[1;33m)\u001b[0m\u001b[1;33m\u001b[0m\u001b[1;33m\u001b[0m\u001b[0m\n\u001b[0;32m    406\u001b[0m \u001b[1;33m\u001b[0m\u001b[0m\n\u001b[1;32m--> 407\u001b[1;33m         \u001b[0mX\u001b[0m \u001b[1;33m=\u001b[0m \u001b[0mself\u001b[0m\u001b[1;33m.\u001b[0m\u001b[0m_validate_data\u001b[0m\u001b[1;33m(\u001b[0m\u001b[0mX\u001b[0m\u001b[1;33m,\u001b[0m \u001b[0maccept_sparse\u001b[0m\u001b[1;33m=\u001b[0m\u001b[1;34m\"csr\"\u001b[0m\u001b[1;33m,\u001b[0m \u001b[0mreset\u001b[0m\u001b[1;33m=\u001b[0m\u001b[1;32mFalse\u001b[0m\u001b[1;33m)\u001b[0m\u001b[1;33m\u001b[0m\u001b[1;33m\u001b[0m\u001b[0m\n\u001b[0m\u001b[0;32m    408\u001b[0m         \u001b[0mscores\u001b[0m \u001b[1;33m=\u001b[0m \u001b[0msafe_sparse_dot\u001b[0m\u001b[1;33m(\u001b[0m\u001b[0mX\u001b[0m\u001b[1;33m,\u001b[0m \u001b[0mself\u001b[0m\u001b[1;33m.\u001b[0m\u001b[0mcoef_\u001b[0m\u001b[1;33m.\u001b[0m\u001b[0mT\u001b[0m\u001b[1;33m,\u001b[0m \u001b[0mdense_output\u001b[0m\u001b[1;33m=\u001b[0m\u001b[1;32mTrue\u001b[0m\u001b[1;33m)\u001b[0m \u001b[1;33m+\u001b[0m \u001b[0mself\u001b[0m\u001b[1;33m.\u001b[0m\u001b[0mintercept_\u001b[0m\u001b[1;33m\u001b[0m\u001b[1;33m\u001b[0m\u001b[0m\n\u001b[0;32m    409\u001b[0m         \u001b[1;32mreturn\u001b[0m \u001b[0mscores\u001b[0m\u001b[1;33m.\u001b[0m\u001b[0mravel\u001b[0m\u001b[1;33m(\u001b[0m\u001b[1;33m)\u001b[0m \u001b[1;32mif\u001b[0m \u001b[0mscores\u001b[0m\u001b[1;33m.\u001b[0m\u001b[0mshape\u001b[0m\u001b[1;33m[\u001b[0m\u001b[1;36m1\u001b[0m\u001b[1;33m]\u001b[0m \u001b[1;33m==\u001b[0m \u001b[1;36m1\u001b[0m \u001b[1;32melse\u001b[0m \u001b[0mscores\u001b[0m\u001b[1;33m\u001b[0m\u001b[1;33m\u001b[0m\u001b[0m\n",
      "\u001b[1;32mc:\\users\\husey\\appdata\\local\\programs\\python\\python38\\lib\\site-packages\\sklearn\\base.py\u001b[0m in \u001b[0;36m_validate_data\u001b[1;34m(self, X, y, reset, validate_separately, **check_params)\u001b[0m\n\u001b[0;32m    578\u001b[0m \u001b[1;33m\u001b[0m\u001b[0m\n\u001b[0;32m    579\u001b[0m         \u001b[1;32mif\u001b[0m \u001b[1;32mnot\u001b[0m \u001b[0mno_val_X\u001b[0m \u001b[1;32mand\u001b[0m \u001b[0mcheck_params\u001b[0m\u001b[1;33m.\u001b[0m\u001b[0mget\u001b[0m\u001b[1;33m(\u001b[0m\u001b[1;34m\"ensure_2d\"\u001b[0m\u001b[1;33m,\u001b[0m \u001b[1;32mTrue\u001b[0m\u001b[1;33m)\u001b[0m\u001b[1;33m:\u001b[0m\u001b[1;33m\u001b[0m\u001b[1;33m\u001b[0m\u001b[0m\n\u001b[1;32m--> 580\u001b[1;33m             \u001b[0mself\u001b[0m\u001b[1;33m.\u001b[0m\u001b[0m_check_n_features\u001b[0m\u001b[1;33m(\u001b[0m\u001b[0mX\u001b[0m\u001b[1;33m,\u001b[0m \u001b[0mreset\u001b[0m\u001b[1;33m=\u001b[0m\u001b[0mreset\u001b[0m\u001b[1;33m)\u001b[0m\u001b[1;33m\u001b[0m\u001b[1;33m\u001b[0m\u001b[0m\n\u001b[0m\u001b[0;32m    581\u001b[0m \u001b[1;33m\u001b[0m\u001b[0m\n\u001b[0;32m    582\u001b[0m         \u001b[1;32mreturn\u001b[0m \u001b[0mout\u001b[0m\u001b[1;33m\u001b[0m\u001b[1;33m\u001b[0m\u001b[0m\n",
      "\u001b[1;32mc:\\users\\husey\\appdata\\local\\programs\\python\\python38\\lib\\site-packages\\sklearn\\base.py\u001b[0m in \u001b[0;36m_check_n_features\u001b[1;34m(self, X, reset)\u001b[0m\n\u001b[0;32m    393\u001b[0m \u001b[1;33m\u001b[0m\u001b[0m\n\u001b[0;32m    394\u001b[0m         \u001b[1;32mif\u001b[0m \u001b[0mn_features\u001b[0m \u001b[1;33m!=\u001b[0m \u001b[0mself\u001b[0m\u001b[1;33m.\u001b[0m\u001b[0mn_features_in_\u001b[0m\u001b[1;33m:\u001b[0m\u001b[1;33m\u001b[0m\u001b[1;33m\u001b[0m\u001b[0m\n\u001b[1;32m--> 395\u001b[1;33m             raise ValueError(\n\u001b[0m\u001b[0;32m    396\u001b[0m                 \u001b[1;34mf\"X has {n_features} features, but {self.__class__.__name__} \"\u001b[0m\u001b[1;33m\u001b[0m\u001b[1;33m\u001b[0m\u001b[0m\n\u001b[0;32m    397\u001b[0m                 \u001b[1;34mf\"is expecting {self.n_features_in_} features as input.\"\u001b[0m\u001b[1;33m\u001b[0m\u001b[1;33m\u001b[0m\u001b[0m\n",
      "\u001b[1;31mValueError\u001b[0m: X has 45592 features, but LogisticRegression is expecting 30044 features as input."
     ]
    }
   ],
   "source": [
    "loj_model.predict(yeni_yorum)"
   ]
  },
  {
   "cell_type": "code",
   "execution_count": 100,
   "id": "cf23764a",
   "metadata": {},
   "outputs": [
    {
     "data": {
      "text/plain": [
       "MultinomialNB()"
      ]
     },
     "execution_count": 100,
     "metadata": {},
     "output_type": "execute_result"
    }
   ],
   "source": [
    "nb_model"
   ]
  },
  {
   "cell_type": "code",
   "execution_count": 101,
   "id": "90dc2e3e",
   "metadata": {},
   "outputs": [
    {
     "data": {
      "text/plain": [
       "array([2])"
      ]
     },
     "execution_count": 101,
     "metadata": {},
     "output_type": "execute_result"
    }
   ],
   "source": [
    "nb_model.predict(yeni_yorum)"
   ]
  },
  {
   "cell_type": "code",
   "execution_count": 110,
   "id": "64ed04b5",
   "metadata": {},
   "outputs": [
    {
     "data": {
      "text/plain": [
       "LogisticRegression()"
      ]
     },
     "execution_count": 110,
     "metadata": {},
     "output_type": "execute_result"
    }
   ],
   "source": [
    "rf_model"
   ]
  },
  {
   "cell_type": "code",
   "execution_count": 133,
   "id": "e6f981ea",
   "metadata": {},
   "outputs": [
    {
     "data": {
      "text/plain": [
       "array([1])"
      ]
     },
     "execution_count": 133,
     "metadata": {},
     "output_type": "execute_result"
    }
   ],
   "source": [
    "rf_model.predict(yeni_yorum)"
   ]
  },
  {
   "cell_type": "code",
   "execution_count": 146,
   "id": "2607021d",
   "metadata": {
    "scrolled": true
   },
   "outputs": [
    {
     "data": {
      "text/plain": [
       "XGBClassifier(base_score=0.5, booster='gbtree', colsample_bylevel=1,\n",
       "              colsample_bynode=1, colsample_bytree=1, enable_categorical=False,\n",
       "              gamma=0, gpu_id=-1, importance_type=None,\n",
       "              interaction_constraints='', learning_rate=0.300000012,\n",
       "              max_delta_step=0, max_depth=6, min_child_weight=1, missing=nan,\n",
       "              monotone_constraints='()', n_estimators=100, n_jobs=4,\n",
       "              num_parallel_tree=1, objective='multi:softprob', predictor='auto',\n",
       "              random_state=0, reg_alpha=0, reg_lambda=1, scale_pos_weight=None,\n",
       "              subsample=1, tree_method='exact', validate_parameters=1,\n",
       "              verbosity=None)"
      ]
     },
     "execution_count": 146,
     "metadata": {},
     "output_type": "execute_result"
    }
   ],
   "source": [
    "xgb_model"
   ]
  },
  {
   "cell_type": "code",
   "execution_count": 143,
   "id": "b0348f16",
   "metadata": {},
   "outputs": [
    {
     "data": {
      "text/plain": [
       "array([2])"
      ]
     },
     "execution_count": 143,
     "metadata": {},
     "output_type": "execute_result"
    }
   ],
   "source": [
    "xgb_model.predict(yeni_yorum)"
   ]
  },
  {
   "cell_type": "code",
   "execution_count": null,
   "id": "6c58c66a",
   "metadata": {},
   "outputs": [],
   "source": []
  }
 ],
 "metadata": {
  "kernelspec": {
   "display_name": "Python 3 (ipykernel)",
   "language": "python",
   "name": "python3"
  },
  "language_info": {
   "codemirror_mode": {
    "name": "ipython",
    "version": 3
   },
   "file_extension": ".py",
   "mimetype": "text/x-python",
   "name": "python",
   "nbconvert_exporter": "python",
   "pygments_lexer": "ipython3",
   "version": "3.8.10"
  }
 },
 "nbformat": 4,
 "nbformat_minor": 5
}
